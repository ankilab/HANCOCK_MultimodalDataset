{
 "cells": [
  {
   "cell_type": "code",
   "execution_count": 1,
   "id": "db9f29da",
   "metadata": {},
   "outputs": [],
   "source": [
    "import matplotlib.pyplot as plt\n",
    "import seaborn as sns\n",
    "import pandas as pd\n",
    "import numpy as np\n",
    "from matplotlib import rcParams\n",
    "from pathlib import Path"
   ]
  },
  {
   "cell_type": "code",
   "execution_count": 2,
   "id": "745b78f8",
   "metadata": {},
   "outputs": [],
   "source": [
    "rcParams.update({\"font.size\": 6})\n",
    "rcParams[\"svg.fonttype\"] = \"none\""
   ]
  },
  {
   "cell_type": "markdown",
   "id": "94856c81",
   "metadata": {},
   "source": [
    "Loading the tabular data (.json files):"
   ]
  },
  {
   "cell_type": "code",
   "execution_count": 3,
   "id": "b62509d4-be9e-4768-9907-b30d36c71f87",
   "metadata": {},
   "outputs": [],
   "source": [
    "# TO DO: Specify path to structured data\n",
    "data_dir = Path(\"../Hancock_Dataset/StructuredData\")"
   ]
  },
  {
   "cell_type": "code",
   "execution_count": 4,
   "id": "3aa02e77",
   "metadata": {},
   "outputs": [],
   "source": [
    "clinical = pd.read_json(data_dir/\"clinical_data.json\", dtype={\"patient_id\": str})\n",
    "patho = pd.read_json(data_dir/\"pathological_data.json\", dtype={\"patient_id\": str})\n",
    "blood = pd.read_json(data_dir/\"blood_data.json\", dtype={\"patient_id\": str})\n",
    "ref = pd.read_json(data_dir/\"blood_data_reference_ranges.json\").drop([\"LOINC_name\"], axis=1)"
   ]
  },
  {
   "cell_type": "markdown",
   "id": "04fb1246",
   "metadata": {},
   "source": [
    "## Demographics"
   ]
  },
  {
   "cell_type": "markdown",
   "id": "5ff17d29",
   "metadata": {},
   "source": [
    "### Smoking status"
   ]
  },
  {
   "cell_type": "code",
   "execution_count": 5,
   "id": "27062874",
   "metadata": {},
   "outputs": [
    {
     "data": {
      "text/plain": [
       "smoking_status\n",
       "smoker        350\n",
       "non-smoker    211\n",
       "former        186\n",
       "Name: count, dtype: int64"
      ]
     },
     "execution_count": 5,
     "metadata": {},
     "output_type": "execute_result"
    }
   ],
   "source": [
    "smoking_counts = clinical['smoking_status'].value_counts()\n",
    "smoking_counts"
   ]
  },
  {
   "cell_type": "code",
   "execution_count": 6,
   "id": "167fb45f",
   "metadata": {},
   "outputs": [
    {
     "data": {
      "image/png": "[encoded data removed]",
      "text/plain": [
       "<Figure size 80x80 with 1 Axes>"
      ]
     },
     "metadata": {},
     "output_type": "display_data"
    }
   ],
   "source": [
    "plt.figure(figsize=(0.8,0.8))\n",
    "plt.pie(smoking_counts,\n",
    "        colors=[sns.color_palette(\"Set2\")[1],sns.color_palette(\"Set2\")[0],sns.color_palette(\"Set2\")[2]],\n",
    "        autopct='%.0f%%',\n",
    "        startangle=90,\n",
    "        textprops={'fontsize':\"6\"})\n",
    "circle = plt.Circle((0,0), 0.4, color='white')\n",
    "p = plt.gcf()\n",
    "# p.gca().add_artist(circle)\n",
    "plt.legend([\"Current smoker\", \"Non-smoker\", \"Former smoker\"],\n",
    "           loc='center right',\n",
    "           bbox_to_anchor=(1.2, -0.2),\n",
    "           frameon=False)\n",
    "plt.show()"
   ]
  },
  {
   "cell_type": "markdown",
   "id": "cde7ff9a",
   "metadata": {},
   "source": [
    "### Sex"
   ]
  },
  {
   "cell_type": "code",
   "execution_count": 7,
   "id": "49ee09a8",
   "metadata": {},
   "outputs": [
    {
     "data": {
      "text/plain": [
       "sex\n",
       "male      614\n",
       "female    149\n",
       "Name: count, dtype: int64"
      ]
     },
     "execution_count": 7,
     "metadata": {},
     "output_type": "execute_result"
    }
   ],
   "source": [
    "sex_counts = clinical['sex'].value_counts()\n",
    "sex_counts"
   ]
  },
  {
   "cell_type": "code",
   "execution_count": 8,
   "id": "5147b6c7",
   "metadata": {},
   "outputs": [
    {
     "data": {
      "image/png": "[encoded data removed]",
      "text/plain": [
       "<Figure size 80x86 with 1 Axes>"
      ]
     },
     "metadata": {},
     "output_type": "display_data"
    }
   ],
   "source": [
    "plt.figure(figsize=(0.8,0.86))\n",
    "plt.pie(sex_counts,\n",
    "        colors=sns.color_palette(\"Set2\"),\n",
    "        autopct='%.0f%%',\n",
    "        startangle=90,\n",
    "        textprops={'fontsize':\"6\"})\n",
    "circle = plt.Circle((0,0), 0.4, color='white')\n",
    "p = plt.gcf()\n",
    "# p.gca().add_artist(circle)\n",
    "plt.legend([\"Male\", \"Female\"],\n",
    "           loc='center right',\n",
    "           bbox_to_anchor=(1, -0.2),\n",
    "           frameon=False)\n",
    "plt.show()"
   ]
  },
  {
   "cell_type": "markdown",
   "id": "0a59f3d5",
   "metadata": {},
   "source": [
    "### Age"
   ]
  },
  {
   "cell_type": "code",
   "execution_count": 9,
   "id": "72f941cb",
   "metadata": {},
   "outputs": [],
   "source": [
    "age = clinical[\"age_at_initial_diagnosis\"]\n",
    "bins = np.arange(clinical[\"age_at_initial_diagnosis\"].min(), clinical[\"age_at_initial_diagnosis\"].max()+1, 5)"
   ]
  },
  {
   "cell_type": "code",
   "execution_count": 10,
   "id": "b36ae938",
   "metadata": {},
   "outputs": [
    {
     "data": {
      "text/plain": [
       "61.0"
      ]
     },
     "execution_count": 10,
     "metadata": {},
     "output_type": "execute_result"
    }
   ],
   "source": [
    "age.median()"
   ]
  },
  {
   "cell_type": "code",
   "execution_count": 11,
   "id": "1c1c9a19",
   "metadata": {},
   "outputs": [
    {
     "data": {
      "image/png": "[encoded data removed]",
      "text/plain": [
       "<Figure size 130x80 with 1 Axes>"
      ]
     },
     "metadata": {},
     "output_type": "display_data"
    }
   ],
   "source": [
    "plt.figure(figsize=(1.3,0.8))\n",
    "plt.hist(age, bins=bins, edgecolor=\"white\", color=sns.color_palette(\"Set2\")[2])\n",
    "sns.despine()\n",
    "plt.ylim([0,150])\n",
    "plt.xlabel(\"Age at diagnosis\", fontsize=6)\n",
    "plt.ylabel(\"# Patients\", fontsize=6)\n",
    "plt.show()"
   ]
  },
  {
   "cell_type": "code",
   "execution_count": 12,
   "id": "4d38fccd",
   "metadata": {},
   "outputs": [
    {
     "data": {
      "image/png": "[encoded data removed]",
      "text/plain": [
       "<Figure size 130x80 with 1 Axes>"
      ]
     },
     "metadata": {},
     "output_type": "display_data"
    }
   ],
   "source": [
    "plt.figure(figsize=(1.3,0.8))\n",
    "plt.hist(age, bins=bins, edgecolor=\"white\", color=sns.color_palette(\"Set2\")[2])\n",
    "sns.despine()\n",
    "plt.ylim([0,150])\n",
    "plt.xlabel(\"Age at diagnosis\", fontsize=6)\n",
    "plt.ylabel(\"# Patients\", fontsize=6)\n",
    "plt.plot(age.min(), 15, \"v\", color=\"darkgray\", markersize=3)\n",
    "plt.plot(age.max(), 15, \"v\", color=\"darkgray\", markersize=3)\n",
    "plt.text(s=f\"min:\\n{age.min()}\", x=20, y=30, color=\"darkgray\")\n",
    "plt.text(s=f\"max:\\n{age.max()}\", x=90, y=30, color=\"darkgray\")\n",
    "plt.savefig(\"test.svg\", bbox_inches=\"tight\")\n",
    "plt.show()"
   ]
  },
  {
   "cell_type": "markdown",
   "id": "1521bea0",
   "metadata": {},
   "source": [
    "## Pathological data"
   ]
  },
  {
   "cell_type": "markdown",
   "id": "c1022d8e",
   "metadata": {},
   "source": [
    "### Primary tumor site"
   ]
  },
  {
   "cell_type": "code",
   "execution_count": 13,
   "id": "c88f0944",
   "metadata": {},
   "outputs": [
    {
     "data": {
      "text/plain": [
       "primary_tumor_site\n",
       "CUP              2\n",
       "Hypopharynx     89\n",
       "Oral Cavity    134\n",
       "Larynx         207\n",
       "Oropharynx     331\n",
       "Name: count, dtype: int64"
      ]
     },
     "execution_count": 13,
     "metadata": {},
     "output_type": "execute_result"
    }
   ],
   "source": [
    "site = patho[\"primary_tumor_site\"].value_counts().sort_values()\n",
    "site.index = site.index.str.replace('_', ' ')\n",
    "site"
   ]
  },
  {
   "cell_type": "code",
   "execution_count": 14,
   "id": "17c762ad",
   "metadata": {},
   "outputs": [
    {
     "data": {
      "image/png": "[encoded data removed]",
      "text/plain": [
       "<Figure size 80x80 with 1 Axes>"
      ]
     },
     "metadata": {},
     "output_type": "display_data"
    }
   ],
   "source": [
    "plt.figure(figsize=(0.8, 0.8))\n",
    "# color = list(reversed(sns.color_palette(\"Set2\")[0:4]))\n",
    "color = sns.color_palette(\"Set2\")[2]\n",
    "ax = plt.barh(site.index, site.values, color=color)\n",
    "plt.bar_label(ax, padding=2, fontsize=6)\n",
    "sns.despine()\n",
    "plt.xlabel(\"# Patients\", fontsize=6)\n",
    "plt.show()"
   ]
  },
  {
   "cell_type": "markdown",
   "id": "ec0f262b",
   "metadata": {},
   "source": [
    "### Staging"
   ]
  },
  {
   "cell_type": "code",
   "execution_count": 15,
   "id": "c5630324",
   "metadata": {},
   "outputs": [],
   "source": [
    "tstage = patho[\"pT_stage\"].replace({\"pT4a\": \"pT4\", \"pT4b\": \"pT4\", \"pT1a\": \"pT1\", \"pT1b\": \"pT1\"}).value_counts().sort_values()\n",
    "tstage = tstage.sort_values(ascending=True)"
   ]
  },
  {
   "cell_type": "code",
   "execution_count": 16,
   "id": "cb37ffe1",
   "metadata": {},
   "outputs": [
    {
     "data": {
      "image/png": "[encoded data removed]",
      "text/plain": [
       "<Figure size 80x80 with 1 Axes>"
      ]
     },
     "metadata": {},
     "output_type": "display_data"
    }
   ],
   "source": [
    "plt.figure(figsize=(0.8, 0.8))\n",
    "color = sns.color_palette(\"Set2\")[2]\n",
    "ax = plt.barh(tstage.index, tstage.values, color=color)\n",
    "plt.bar_label(ax, padding=2, fontsize=6)\n",
    "sns.despine()\n",
    "plt.xlabel(\"# Patients\", fontsize=6)\n",
    "plt.show()"
   ]
  },
  {
   "cell_type": "code",
   "execution_count": 17,
   "id": "f40adca3",
   "metadata": {},
   "outputs": [],
   "source": [
    "nstage = patho[\"pN_stage\"].apply(lambda x: \"xNX\" if x==\"NX\" else str(x)[:3]).value_counts().sort_values()\n",
    "nstage = nstage.sort_index(ascending=False)"
   ]
  },
  {
   "cell_type": "code",
   "execution_count": 18,
   "id": "aebf7b97",
   "metadata": {},
   "outputs": [
    {
     "data": {
      "image/png": "[encoded data removed]",
      "text/plain": [
       "<Figure size 80x80 with 1 Axes>"
      ]
     },
     "metadata": {},
     "output_type": "display_data"
    }
   ],
   "source": [
    "plt.figure(figsize=(0.8, 0.8))\n",
    "color = sns.color_palette(\"Set2\")[2]\n",
    "ax = plt.barh(nstage.index, nstage.values, color=color)\n",
    "plt.bar_label(ax, padding=2, fontsize=6)\n",
    "sns.despine()\n",
    "plt.xlabel(\"# Patients\", fontsize=8)\n",
    "plt.show()"
   ]
  },
  {
   "cell_type": "markdown",
   "id": "d82c008e",
   "metadata": {},
   "source": [
    "### Grading"
   ]
  },
  {
   "cell_type": "code",
   "execution_count": 19,
   "id": "0ad3e052",
   "metadata": {},
   "outputs": [
    {
     "data": {
      "text/plain": [
       "grading\n",
       "HPV+    141\n",
       "G3      370\n",
       "G2      236\n",
       "G1       16\n",
       "Name: count, dtype: int64"
      ]
     },
     "execution_count": 19,
     "metadata": {},
     "output_type": "execute_result"
    }
   ],
   "source": [
    "grading = patho.grading.replace(\"hpv_association_p16\", \"HPV+\").value_counts()[[\"HPV+\", \"G3\", \"G2\", \"G1\"]]\n",
    "grading"
   ]
  },
  {
   "cell_type": "code",
   "execution_count": 20,
   "id": "899d6d89",
   "metadata": {},
   "outputs": [
    {
     "data": {
      "image/png": "[encoded data removed]",
      "text/plain": [
       "<Figure size 80x80 with 1 Axes>"
      ]
     },
     "metadata": {},
     "output_type": "display_data"
    }
   ],
   "source": [
    "plt.figure(figsize=(0.8, 0.8))\n",
    "color = sns.color_palette(\"Set2\")[2]\n",
    "ax = plt.barh(grading.index, grading.values, color=color)\n",
    "plt.bar_label(ax, padding=2, fontsize=6)\n",
    "sns.despine()\n",
    "plt.xlabel(\"# Patients\", fontsize=6)\n",
    "plt.ylabel(\"Grading\", fontsize=6)\n",
    "plt.show()"
   ]
  },
  {
   "cell_type": "markdown",
   "id": "18b8e040",
   "metadata": {},
   "source": [
    "### Tumor infiltration depth"
   ]
  },
  {
   "cell_type": "code",
   "execution_count": 21,
   "id": "af43e58f",
   "metadata": {},
   "outputs": [
    {
     "data": {
      "image/png": "[encoded data removed]",
      "text/plain": [
       "<Figure size 130x80 with 1 Axes>"
      ]
     },
     "metadata": {},
     "output_type": "display_data"
    }
   ],
   "source": [
    "infiltration = patho.infiltration_depth_in_mm\n",
    "bins = np.arange(infiltration.min(), infiltration.max()+1, 3)\n",
    "\n",
    "plt.figure(figsize=(1.3,0.8))\n",
    "plt.hist(infiltration, bins=bins, edgecolor=\"white\", color=sns.color_palette(\"Set2\")[2], linewidth=0.5)\n",
    "plt.yticks([0,50,100,150])\n",
    "sns.despine()\n",
    "plt.xlabel(\"Infiltration depth [mm]\", fontsize=6)\n",
    "plt.ylabel(\"# Patients\", fontsize=6)\n",
    "plt.show()"
   ]
  },
  {
   "cell_type": "markdown",
   "id": "10edbbdb",
   "metadata": {},
   "source": [
    "### Tumor resection margin"
   ]
  },
  {
   "cell_type": "code",
   "execution_count": 22,
   "id": "88b58584",
   "metadata": {},
   "outputs": [],
   "source": [
    "margin_r = patho[[\"closest_resection_margin_in_cm\"]].copy()"
   ]
  },
  {
   "cell_type": "code",
   "execution_count": 23,
   "id": "05bc9561",
   "metadata": {},
   "outputs": [],
   "source": [
    "margin_r[\"grouped\"] = margin_r.closest_resection_margin_in_cm.replace({\n",
    "    \"<0.1\": \"]0, 0.1[\",\n",
    "    \"0.1\": \"[0.1, 0.4]\", \"0.2\": \"[0.1, 0.4]\", \"0.3\": \"[0.1, 0.4]\", \"0.4\": \"[0.1, 0.4]\",\n",
    "    \"0.5\": \"> 0.4\", \"0.6\": \"> 0.4\", \"0.7\": \"> 0.4\", \"0.8\": \"> 0.4\", \"0.9\": \"> 0.4\", \"1\": \"> 0.4\", \"1.1\": \"> 0.4\", \"1.2\": \"> 0.4\", \"1.3\": \"> 0.4\", \n",
    "})\n",
    "margin_grouped = margin_r.grouped.value_counts()"
   ]
  },
  {
   "cell_type": "code",
   "execution_count": 24,
   "id": "8724f5ef",
   "metadata": {},
   "outputs": [
    {
     "data": {
      "image/png": "[encoded data removed]",
      "text/plain": [
       "<Figure size 80x80 with 1 Axes>"
      ]
     },
     "metadata": {},
     "output_type": "display_data"
    }
   ],
   "source": [
    "plt.figure(figsize=(0.8, 0.8))\n",
    "color = sns.color_palette(\"Set2\")[2]\n",
    "ax = plt.barh(margin_grouped.index, margin_grouped.values, color=color)\n",
    "plt.bar_label(ax, padding=2, fontsize=6)\n",
    "plt.xlim([0,250])\n",
    "sns.despine()\n",
    "plt.xlabel(\"# Patients\", fontsize=6)\n",
    "plt.ylabel(\"Margin [cm]\", fontsize=6)\n",
    "plt.show()"
   ]
  },
  {
   "cell_type": "markdown",
   "id": "ebe8a47e",
   "metadata": {},
   "source": [
    "## Blood data"
   ]
  },
  {
   "cell_type": "code",
   "execution_count": 25,
   "id": "54e43061",
   "metadata": {},
   "outputs": [
    {
     "name": "stdout",
     "output_type": "stream",
     "text": [
      "% ,\n",
      "fl ,\n",
      "g/dl ,\n",
      "mg/dl ,\n",
      "mg/l ,\n",
      "ml/min ,\n",
      "mmol/l ,\n",
      "pg ,\n",
      "s ,\n",
      "x10^3/µl ,\n",
      "x10^6/µl ,\n"
     ]
    }
   ],
   "source": [
    "# Print available units\n",
    "for s in sorted(list([u for u in blood.unit.unique() if u is not None])):\n",
    "    print(s,\",\")"
   ]
  },
  {
   "cell_type": "code",
   "execution_count": 26,
   "id": "a9908a8a",
   "metadata": {},
   "outputs": [
    {
     "data": {
      "text/html": [
       "<div>\n",
       "<style scoped>\n",
       "    .dataframe tbody tr th:only-of-type {\n",
       "        vertical-align: middle;\n",
       "    }\n",
       "\n",
       "    .dataframe tbody tr th {\n",
       "        vertical-align: top;\n",
       "    }\n",
       "\n",
       "    .dataframe thead th {\n",
       "        text-align: right;\n",
       "    }\n",
       "</style>\n",
       "<table border=\"1\" class=\"dataframe\">\n",
       "  <thead>\n",
       "    <tr style=\"text-align: right;\">\n",
       "      <th></th>\n",
       "      <th>analyte_name</th>\n",
       "      <th>LOINC_name</th>\n",
       "      <th>LOINC_code</th>\n",
       "      <th>count</th>\n",
       "    </tr>\n",
       "  </thead>\n",
       "  <tbody>\n",
       "    <tr>\n",
       "      <th>0</th>\n",
       "      <td>Basophils</td>\n",
       "      <td>Basophils [#/volume] in Blood</td>\n",
       "      <td>26444-0</td>\n",
       "      <td>640</td>\n",
       "    </tr>\n",
       "    <tr>\n",
       "      <th>1</th>\n",
       "      <td>Basophils %</td>\n",
       "      <td>Basophils/100 leukocytes in Blood</td>\n",
       "      <td>30180-4</td>\n",
       "      <td>642</td>\n",
       "    </tr>\n",
       "    <tr>\n",
       "      <th>2</th>\n",
       "      <td>CRP</td>\n",
       "      <td>C reactive protein [Mass/volume] in Serum or P...</td>\n",
       "      <td>1988-5</td>\n",
       "      <td>93</td>\n",
       "    </tr>\n",
       "    <tr>\n",
       "      <th>3</th>\n",
       "      <td>Calcium</td>\n",
       "      <td>Calcium [Moles/volume] in Serum or Plasma</td>\n",
       "      <td>2000-8</td>\n",
       "      <td>682</td>\n",
       "    </tr>\n",
       "    <tr>\n",
       "      <th>4</th>\n",
       "      <td>Chloride</td>\n",
       "      <td>Chloride [Moles/volume] in Serum or Plasma</td>\n",
       "      <td>2075-0</td>\n",
       "      <td>462</td>\n",
       "    </tr>\n",
       "    <tr>\n",
       "      <th>5</th>\n",
       "      <td>Creatinine</td>\n",
       "      <td>Creatinine [Mass/volume] in Serum or Plasma</td>\n",
       "      <td>2160-0</td>\n",
       "      <td>684</td>\n",
       "    </tr>\n",
       "    <tr>\n",
       "      <th>6</th>\n",
       "      <td>Eosinophils</td>\n",
       "      <td>Eosinophils [#/volume] in Blood</td>\n",
       "      <td>26449-9</td>\n",
       "      <td>640</td>\n",
       "    </tr>\n",
       "    <tr>\n",
       "      <th>7</th>\n",
       "      <td>Eosinophils %</td>\n",
       "      <td>Eosinophils/100 leukocytes in Blood</td>\n",
       "      <td>26450-7</td>\n",
       "      <td>642</td>\n",
       "    </tr>\n",
       "    <tr>\n",
       "      <th>8</th>\n",
       "      <td>Erythrocytes</td>\n",
       "      <td>Erythrocytes [#/volume] in Blood</td>\n",
       "      <td>26453-1</td>\n",
       "      <td>684</td>\n",
       "    </tr>\n",
       "    <tr>\n",
       "      <th>9</th>\n",
       "      <td>Glomerular filtration rate</td>\n",
       "      <td>Glomerular filtration rate/1.73 sq M.predicted...</td>\n",
       "      <td>33914-3</td>\n",
       "      <td>646</td>\n",
       "    </tr>\n",
       "    <tr>\n",
       "      <th>10</th>\n",
       "      <td>Glucose</td>\n",
       "      <td>Glucose [Mass/volume] in Serum or Plasma</td>\n",
       "      <td>2345-7</td>\n",
       "      <td>179</td>\n",
       "    </tr>\n",
       "    <tr>\n",
       "      <th>11</th>\n",
       "      <td>Granulocytes</td>\n",
       "      <td>Granulocytes [#/volume] in Blood</td>\n",
       "      <td>30394-1</td>\n",
       "      <td>684</td>\n",
       "    </tr>\n",
       "    <tr>\n",
       "      <th>12</th>\n",
       "      <td>Granulocytes %</td>\n",
       "      <td>Granulocytes/100 leukocytes in Blood by Automa...</td>\n",
       "      <td>19023-1</td>\n",
       "      <td>684</td>\n",
       "    </tr>\n",
       "    <tr>\n",
       "      <th>13</th>\n",
       "      <td>Hematocrit</td>\n",
       "      <td>Hematocrit [Volume Fraction] of Blood</td>\n",
       "      <td>20570-8</td>\n",
       "      <td>684</td>\n",
       "    </tr>\n",
       "    <tr>\n",
       "      <th>14</th>\n",
       "      <td>Hemoglobin</td>\n",
       "      <td>Hemoglobin [Mass/volume] in Blood</td>\n",
       "      <td>718-7</td>\n",
       "      <td>684</td>\n",
       "    </tr>\n",
       "    <tr>\n",
       "      <th>15</th>\n",
       "      <td>INR</td>\n",
       "      <td>INR in Blood by Coagulation assay</td>\n",
       "      <td>34714-6</td>\n",
       "      <td>684</td>\n",
       "    </tr>\n",
       "    <tr>\n",
       "      <th>16</th>\n",
       "      <td>Immature Granulocytyes</td>\n",
       "      <td>Granulocytes Immature/100 leukocytes in Blood</td>\n",
       "      <td>38518-7</td>\n",
       "      <td>624</td>\n",
       "    </tr>\n",
       "    <tr>\n",
       "      <th>17</th>\n",
       "      <td>Leukocytes</td>\n",
       "      <td>Leukocytes [#/volume] in Blood</td>\n",
       "      <td>26464-8</td>\n",
       "      <td>684</td>\n",
       "    </tr>\n",
       "    <tr>\n",
       "      <th>18</th>\n",
       "      <td>Lymphocytes</td>\n",
       "      <td>Lymphocytes [#/volume] in Blood</td>\n",
       "      <td>26474-7</td>\n",
       "      <td>684</td>\n",
       "    </tr>\n",
       "    <tr>\n",
       "      <th>19</th>\n",
       "      <td>Lymphocytes %</td>\n",
       "      <td>Lymphocytes/100 leukocytes in Blood</td>\n",
       "      <td>26478-8</td>\n",
       "      <td>684</td>\n",
       "    </tr>\n",
       "    <tr>\n",
       "      <th>20</th>\n",
       "      <td>MCH</td>\n",
       "      <td>Erythrocyte mean corpuscular hemoglobin [Entit...</td>\n",
       "      <td>28539-5</td>\n",
       "      <td>684</td>\n",
       "    </tr>\n",
       "    <tr>\n",
       "      <th>21</th>\n",
       "      <td>MCV</td>\n",
       "      <td>Erythrocyte mean corpuscular volume [Entitic v...</td>\n",
       "      <td>30428-7</td>\n",
       "      <td>684</td>\n",
       "    </tr>\n",
       "    <tr>\n",
       "      <th>22</th>\n",
       "      <td>MHCH</td>\n",
       "      <td>Erythrocyte mean corpuscular hemoglobin concen...</td>\n",
       "      <td>28540-3</td>\n",
       "      <td>684</td>\n",
       "    </tr>\n",
       "    <tr>\n",
       "      <th>23</th>\n",
       "      <td>MPV</td>\n",
       "      <td>Platelet mean volume [Entitic volume] in Blood</td>\n",
       "      <td>28542-9</td>\n",
       "      <td>608</td>\n",
       "    </tr>\n",
       "    <tr>\n",
       "      <th>24</th>\n",
       "      <td>Magnesium</td>\n",
       "      <td>Magnesium [Moles/volume] in Serum or Plasma</td>\n",
       "      <td>2601-3</td>\n",
       "      <td>152</td>\n",
       "    </tr>\n",
       "    <tr>\n",
       "      <th>25</th>\n",
       "      <td>Monocytes</td>\n",
       "      <td>Monocytes [#/volume] in Blood</td>\n",
       "      <td>26484-6</td>\n",
       "      <td>640</td>\n",
       "    </tr>\n",
       "    <tr>\n",
       "      <th>26</th>\n",
       "      <td>Monocytes %</td>\n",
       "      <td>Monocytes/100 leukocytes in Blood</td>\n",
       "      <td>26485-3</td>\n",
       "      <td>642</td>\n",
       "    </tr>\n",
       "    <tr>\n",
       "      <th>27</th>\n",
       "      <td>Normoblasts</td>\n",
       "      <td>Normoblasts/100 leukocytes [Ratio] in Blood</td>\n",
       "      <td>33990-3</td>\n",
       "      <td>606</td>\n",
       "    </tr>\n",
       "    <tr>\n",
       "      <th>28</th>\n",
       "      <td>PDW</td>\n",
       "      <td>Platelet distribution width [Entitic volume] i...</td>\n",
       "      <td>32207-3</td>\n",
       "      <td>637</td>\n",
       "    </tr>\n",
       "    <tr>\n",
       "      <th>29</th>\n",
       "      <td>PLCR</td>\n",
       "      <td>Platelets Large/Platelets in Blood by Automate...</td>\n",
       "      <td>48386-7</td>\n",
       "      <td>637</td>\n",
       "    </tr>\n",
       "    <tr>\n",
       "      <th>30</th>\n",
       "      <td>PT</td>\n",
       "      <td>Prothrombin time (PT) actual/normal in Platele...</td>\n",
       "      <td>5894-1</td>\n",
       "      <td>684</td>\n",
       "    </tr>\n",
       "    <tr>\n",
       "      <th>31</th>\n",
       "      <td>Platelets</td>\n",
       "      <td>Platelets [#/volume] in Blood</td>\n",
       "      <td>26515-7</td>\n",
       "      <td>684</td>\n",
       "    </tr>\n",
       "    <tr>\n",
       "      <th>32</th>\n",
       "      <td>Potassium</td>\n",
       "      <td>Potassium [Moles/volume] in Serum or Plasma</td>\n",
       "      <td>2823-3</td>\n",
       "      <td>682</td>\n",
       "    </tr>\n",
       "    <tr>\n",
       "      <th>33</th>\n",
       "      <td>RDW</td>\n",
       "      <td>Erythrocyte distribution width [Ratio]</td>\n",
       "      <td>30385-9</td>\n",
       "      <td>682</td>\n",
       "    </tr>\n",
       "    <tr>\n",
       "      <th>34</th>\n",
       "      <td>Sodium</td>\n",
       "      <td>Sodium [Moles/volume] in Serum or Plasma</td>\n",
       "      <td>2951-2</td>\n",
       "      <td>682</td>\n",
       "    </tr>\n",
       "    <tr>\n",
       "      <th>35</th>\n",
       "      <td>Thrombin time</td>\n",
       "      <td>Thrombin time in Platelet poor plasma by Coagu...</td>\n",
       "      <td>3243-3</td>\n",
       "      <td>683</td>\n",
       "    </tr>\n",
       "    <tr>\n",
       "      <th>36</th>\n",
       "      <td>Urea</td>\n",
       "      <td>Urea [Mass/volume] in Serum or Plasma</td>\n",
       "      <td>3091-6</td>\n",
       "      <td>389</td>\n",
       "    </tr>\n",
       "    <tr>\n",
       "      <th>37</th>\n",
       "      <td>aPPT</td>\n",
       "      <td>Activated partial thromboplastin time (aPTT) i...</td>\n",
       "      <td>3173-2</td>\n",
       "      <td>684</td>\n",
       "    </tr>\n",
       "  </tbody>\n",
       "</table>\n",
       "</div>"
      ],
      "text/plain": [
       "                  analyte_name  \\\n",
       "0                    Basophils   \n",
       "1                  Basophils %   \n",
       "2                          CRP   \n",
       "3                      Calcium   \n",
       "4                     Chloride   \n",
       "5                   Creatinine   \n",
       "6                  Eosinophils   \n",
       "7                Eosinophils %   \n",
       "8                 Erythrocytes   \n",
       "9   Glomerular filtration rate   \n",
       "10                     Glucose   \n",
       "11                Granulocytes   \n",
       "12              Granulocytes %   \n",
       "13                  Hematocrit   \n",
       "14                  Hemoglobin   \n",
       "15                         INR   \n",
       "16      Immature Granulocytyes   \n",
       "17                  Leukocytes   \n",
       "18                 Lymphocytes   \n",
       "19               Lymphocytes %   \n",
       "20                         MCH   \n",
       "21                         MCV   \n",
       "22                        MHCH   \n",
       "23                         MPV   \n",
       "24                   Magnesium   \n",
       "25                   Monocytes   \n",
       "26                 Monocytes %   \n",
       "27                 Normoblasts   \n",
       "28                         PDW   \n",
       "29                        PLCR   \n",
       "30                          PT   \n",
       "31                   Platelets   \n",
       "32                   Potassium   \n",
       "33                         RDW   \n",
       "34                      Sodium   \n",
       "35               Thrombin time   \n",
       "36                        Urea   \n",
       "37                        aPPT   \n",
       "\n",
       "                                           LOINC_name LOINC_code  count  \n",
       "0                       Basophils [#/volume] in Blood    26444-0    640  \n",
       "1                   Basophils/100 leukocytes in Blood    30180-4    642  \n",
       "2   C reactive protein [Mass/volume] in Serum or P...     1988-5     93  \n",
       "3           Calcium [Moles/volume] in Serum or Plasma     2000-8    682  \n",
       "4          Chloride [Moles/volume] in Serum or Plasma     2075-0    462  \n",
       "5         Creatinine [Mass/volume] in Serum or Plasma     2160-0    684  \n",
       "6                     Eosinophils [#/volume] in Blood    26449-9    640  \n",
       "7                 Eosinophils/100 leukocytes in Blood    26450-7    642  \n",
       "8                    Erythrocytes [#/volume] in Blood    26453-1    684  \n",
       "9   Glomerular filtration rate/1.73 sq M.predicted...    33914-3    646  \n",
       "10           Glucose [Mass/volume] in Serum or Plasma     2345-7    179  \n",
       "11                   Granulocytes [#/volume] in Blood    30394-1    684  \n",
       "12  Granulocytes/100 leukocytes in Blood by Automa...    19023-1    684  \n",
       "13              Hematocrit [Volume Fraction] of Blood    20570-8    684  \n",
       "14                  Hemoglobin [Mass/volume] in Blood      718-7    684  \n",
       "15                  INR in Blood by Coagulation assay    34714-6    684  \n",
       "16      Granulocytes Immature/100 leukocytes in Blood    38518-7    624  \n",
       "17                     Leukocytes [#/volume] in Blood    26464-8    684  \n",
       "18                    Lymphocytes [#/volume] in Blood    26474-7    684  \n",
       "19                Lymphocytes/100 leukocytes in Blood    26478-8    684  \n",
       "20  Erythrocyte mean corpuscular hemoglobin [Entit...    28539-5    684  \n",
       "21  Erythrocyte mean corpuscular volume [Entitic v...    30428-7    684  \n",
       "22  Erythrocyte mean corpuscular hemoglobin concen...    28540-3    684  \n",
       "23     Platelet mean volume [Entitic volume] in Blood    28542-9    608  \n",
       "24        Magnesium [Moles/volume] in Serum or Plasma     2601-3    152  \n",
       "25                      Monocytes [#/volume] in Blood    26484-6    640  \n",
       "26                  Monocytes/100 leukocytes in Blood    26485-3    642  \n",
       "27        Normoblasts/100 leukocytes [Ratio] in Blood    33990-3    606  \n",
       "28  Platelet distribution width [Entitic volume] i...    32207-3    637  \n",
       "29  Platelets Large/Platelets in Blood by Automate...    48386-7    637  \n",
       "30  Prothrombin time (PT) actual/normal in Platele...     5894-1    684  \n",
       "31                      Platelets [#/volume] in Blood    26515-7    684  \n",
       "32        Potassium [Moles/volume] in Serum or Plasma     2823-3    682  \n",
       "33             Erythrocyte distribution width [Ratio]    30385-9    682  \n",
       "34           Sodium [Moles/volume] in Serum or Plasma     2951-2    682  \n",
       "35  Thrombin time in Platelet poor plasma by Coagu...     3243-3    683  \n",
       "36              Urea [Mass/volume] in Serum or Plasma     3091-6    389  \n",
       "37  Activated partial thromboplastin time (aPTT) i...     3173-2    684  "
      ]
     },
     "execution_count": 26,
     "metadata": {},
     "output_type": "execute_result"
    }
   ],
   "source": [
    "# Get available parameters\n",
    "analytes = pd.DataFrame(blood[[\"analyte_name\", \"LOINC_name\", \"LOINC_code\"]].value_counts())\n",
    "analytes = analytes.sort_values(by=\"analyte_name\").reset_index()\n",
    "analytes"
   ]
  },
  {
   "cell_type": "code",
   "execution_count": 27,
   "id": "95e841a3",
   "metadata": {},
   "outputs": [
    {
     "data": {
      "text/html": [
       "<style type=\"text/css\">\n",
       "#T_34345_row15_col5, #T_34345_row15_col6, #T_34345_row16_col5, #T_34345_row16_col6, #T_34345_row17_col5, #T_34345_row17_col6, #T_34345_row18_col5, #T_34345_row18_col6, #T_34345_row19_col5, #T_34345_row19_col6, #T_34345_row21_col3, #T_34345_row21_col4, #T_34345_row21_col5, #T_34345_row21_col6, #T_34345_row22_col3, #T_34345_row22_col4, #T_34345_row22_col5, #T_34345_row22_col6, #T_34345_row23_col3, #T_34345_row23_col4, #T_34345_row23_col5, #T_34345_row23_col6, #T_34345_row25_col2, #T_34345_row26_col4, #T_34345_row26_col6, #T_34345_row37_col3, #T_34345_row37_col4, #T_34345_row37_col5, #T_34345_row37_col6 {\n",
       "  background-color: yellow;\n",
       "}\n",
       "</style>\n",
       "<table id=\"T_34345\">\n",
       "  <thead>\n",
       "    <tr>\n",
       "      <th class=\"blank level0\" >&nbsp;</th>\n",
       "      <th id=\"T_34345_level0_col0\" class=\"col_heading level0 col0\" >group</th>\n",
       "      <th id=\"T_34345_level0_col1\" class=\"col_heading level0 col1\" >analyte_name</th>\n",
       "      <th id=\"T_34345_level0_col2\" class=\"col_heading level0 col2\" >unit</th>\n",
       "      <th id=\"T_34345_level0_col3\" class=\"col_heading level0 col3\" >normal_male_min</th>\n",
       "      <th id=\"T_34345_level0_col4\" class=\"col_heading level0 col4\" >normal_male_max</th>\n",
       "      <th id=\"T_34345_level0_col5\" class=\"col_heading level0 col5\" >normal_female_min</th>\n",
       "      <th id=\"T_34345_level0_col6\" class=\"col_heading level0 col6\" >normal_female_max</th>\n",
       "    </tr>\n",
       "  </thead>\n",
       "  <tbody>\n",
       "    <tr>\n",
       "      <th id=\"T_34345_level0_row0\" class=\"row_heading level0 row0\" >0</th>\n",
       "      <td id=\"T_34345_row0_col0\" class=\"data row0 col0\" >Hematology</td>\n",
       "      <td id=\"T_34345_row0_col1\" class=\"data row0 col1\" >Leukocytes</td>\n",
       "      <td id=\"T_34345_row0_col2\" class=\"data row0 col2\" >x10^3/µl</td>\n",
       "      <td id=\"T_34345_row0_col3\" class=\"data row0 col3\" >4.000000</td>\n",
       "      <td id=\"T_34345_row0_col4\" class=\"data row0 col4\" >11.500000</td>\n",
       "      <td id=\"T_34345_row0_col5\" class=\"data row0 col5\" >4.000000</td>\n",
       "      <td id=\"T_34345_row0_col6\" class=\"data row0 col6\" >11.000000</td>\n",
       "    </tr>\n",
       "    <tr>\n",
       "      <th id=\"T_34345_level0_row1\" class=\"row_heading level0 row1\" >1</th>\n",
       "      <td id=\"T_34345_row1_col0\" class=\"data row1 col0\" >Hematology</td>\n",
       "      <td id=\"T_34345_row1_col1\" class=\"data row1 col1\" >Hemoglobin</td>\n",
       "      <td id=\"T_34345_row1_col2\" class=\"data row1 col2\" >g/dl</td>\n",
       "      <td id=\"T_34345_row1_col3\" class=\"data row1 col3\" >14.000000</td>\n",
       "      <td id=\"T_34345_row1_col4\" class=\"data row1 col4\" >17.000000</td>\n",
       "      <td id=\"T_34345_row1_col5\" class=\"data row1 col5\" >11.800000</td>\n",
       "      <td id=\"T_34345_row1_col6\" class=\"data row1 col6\" >15.500000</td>\n",
       "    </tr>\n",
       "    <tr>\n",
       "      <th id=\"T_34345_level0_row2\" class=\"row_heading level0 row2\" >2</th>\n",
       "      <td id=\"T_34345_row2_col0\" class=\"data row2 col0\" >Hematology</td>\n",
       "      <td id=\"T_34345_row2_col1\" class=\"data row2 col1\" >Platelets</td>\n",
       "      <td id=\"T_34345_row2_col2\" class=\"data row2 col2\" >x10^3/µl</td>\n",
       "      <td id=\"T_34345_row2_col3\" class=\"data row2 col3\" >160.000000</td>\n",
       "      <td id=\"T_34345_row2_col4\" class=\"data row2 col4\" >400.000000</td>\n",
       "      <td id=\"T_34345_row2_col5\" class=\"data row2 col5\" >160.000000</td>\n",
       "      <td id=\"T_34345_row2_col6\" class=\"data row2 col6\" >400.000000</td>\n",
       "    </tr>\n",
       "    <tr>\n",
       "      <th id=\"T_34345_level0_row3\" class=\"row_heading level0 row3\" >3</th>\n",
       "      <td id=\"T_34345_row3_col0\" class=\"data row3 col0\" >Hematology</td>\n",
       "      <td id=\"T_34345_row3_col1\" class=\"data row3 col1\" >Erythrocytes</td>\n",
       "      <td id=\"T_34345_row3_col2\" class=\"data row3 col2\" >x10^6/µl</td>\n",
       "      <td id=\"T_34345_row3_col3\" class=\"data row3 col3\" >4.400000</td>\n",
       "      <td id=\"T_34345_row3_col4\" class=\"data row3 col4\" >5.600000</td>\n",
       "      <td id=\"T_34345_row3_col5\" class=\"data row3 col5\" >3.900000</td>\n",
       "      <td id=\"T_34345_row3_col6\" class=\"data row3 col6\" >5.200000</td>\n",
       "    </tr>\n",
       "    <tr>\n",
       "      <th id=\"T_34345_level0_row4\" class=\"row_heading level0 row4\" >4</th>\n",
       "      <td id=\"T_34345_row4_col0\" class=\"data row4 col0\" >Hematology</td>\n",
       "      <td id=\"T_34345_row4_col1\" class=\"data row4 col1\" >Hematocrit</td>\n",
       "      <td id=\"T_34345_row4_col2\" class=\"data row4 col2\" >%</td>\n",
       "      <td id=\"T_34345_row4_col3\" class=\"data row4 col3\" >40.000000</td>\n",
       "      <td id=\"T_34345_row4_col4\" class=\"data row4 col4\" >50.000000</td>\n",
       "      <td id=\"T_34345_row4_col5\" class=\"data row4 col5\" >35.000000</td>\n",
       "      <td id=\"T_34345_row4_col6\" class=\"data row4 col6\" >46.000000</td>\n",
       "    </tr>\n",
       "    <tr>\n",
       "      <th id=\"T_34345_level0_row5\" class=\"row_heading level0 row5\" >5</th>\n",
       "      <td id=\"T_34345_row5_col0\" class=\"data row5 col0\" >Hematology</td>\n",
       "      <td id=\"T_34345_row5_col1\" class=\"data row5 col1\" >MCH</td>\n",
       "      <td id=\"T_34345_row5_col2\" class=\"data row5 col2\" >pg</td>\n",
       "      <td id=\"T_34345_row5_col3\" class=\"data row5 col3\" >27.000000</td>\n",
       "      <td id=\"T_34345_row5_col4\" class=\"data row5 col4\" >32.000000</td>\n",
       "      <td id=\"T_34345_row5_col5\" class=\"data row5 col5\" >26.000000</td>\n",
       "      <td id=\"T_34345_row5_col6\" class=\"data row5 col6\" >33.000000</td>\n",
       "    </tr>\n",
       "    <tr>\n",
       "      <th id=\"T_34345_level0_row6\" class=\"row_heading level0 row6\" >6</th>\n",
       "      <td id=\"T_34345_row6_col0\" class=\"data row6 col0\" >Hematology</td>\n",
       "      <td id=\"T_34345_row6_col1\" class=\"data row6 col1\" >MCV</td>\n",
       "      <td id=\"T_34345_row6_col2\" class=\"data row6 col2\" >fl</td>\n",
       "      <td id=\"T_34345_row6_col3\" class=\"data row6 col3\" >82.000000</td>\n",
       "      <td id=\"T_34345_row6_col4\" class=\"data row6 col4\" >96.000000</td>\n",
       "      <td id=\"T_34345_row6_col5\" class=\"data row6 col5\" >81.000000</td>\n",
       "      <td id=\"T_34345_row6_col6\" class=\"data row6 col6\" >98.000000</td>\n",
       "    </tr>\n",
       "    <tr>\n",
       "      <th id=\"T_34345_level0_row7\" class=\"row_heading level0 row7\" >7</th>\n",
       "      <td id=\"T_34345_row7_col0\" class=\"data row7 col0\" >Hematology</td>\n",
       "      <td id=\"T_34345_row7_col1\" class=\"data row7 col1\" >MHCH</td>\n",
       "      <td id=\"T_34345_row7_col2\" class=\"data row7 col2\" >g/dl</td>\n",
       "      <td id=\"T_34345_row7_col3\" class=\"data row7 col3\" >32.000000</td>\n",
       "      <td id=\"T_34345_row7_col4\" class=\"data row7 col4\" >35.000000</td>\n",
       "      <td id=\"T_34345_row7_col5\" class=\"data row7 col5\" >32.000000</td>\n",
       "      <td id=\"T_34345_row7_col6\" class=\"data row7 col6\" >36.000000</td>\n",
       "    </tr>\n",
       "    <tr>\n",
       "      <th id=\"T_34345_level0_row8\" class=\"row_heading level0 row8\" >8</th>\n",
       "      <td id=\"T_34345_row8_col0\" class=\"data row8 col0\" >Hematology</td>\n",
       "      <td id=\"T_34345_row8_col1\" class=\"data row8 col1\" >RDW</td>\n",
       "      <td id=\"T_34345_row8_col2\" class=\"data row8 col2\" >%</td>\n",
       "      <td id=\"T_34345_row8_col3\" class=\"data row8 col3\" >12.000000</td>\n",
       "      <td id=\"T_34345_row8_col4\" class=\"data row8 col4\" >14.300000</td>\n",
       "      <td id=\"T_34345_row8_col5\" class=\"data row8 col5\" >11.600000</td>\n",
       "      <td id=\"T_34345_row8_col6\" class=\"data row8 col6\" >16.200000</td>\n",
       "    </tr>\n",
       "    <tr>\n",
       "      <th id=\"T_34345_level0_row9\" class=\"row_heading level0 row9\" >9</th>\n",
       "      <td id=\"T_34345_row9_col0\" class=\"data row9 col0\" >Hematology</td>\n",
       "      <td id=\"T_34345_row9_col1\" class=\"data row9 col1\" >MPV</td>\n",
       "      <td id=\"T_34345_row9_col2\" class=\"data row9 col2\" >fl</td>\n",
       "      <td id=\"T_34345_row9_col3\" class=\"data row9 col3\" >9.000000</td>\n",
       "      <td id=\"T_34345_row9_col4\" class=\"data row9 col4\" >12.000000</td>\n",
       "      <td id=\"T_34345_row9_col5\" class=\"data row9 col5\" >7.800000</td>\n",
       "      <td id=\"T_34345_row9_col6\" class=\"data row9 col6\" >11.000000</td>\n",
       "    </tr>\n",
       "    <tr>\n",
       "      <th id=\"T_34345_level0_row10\" class=\"row_heading level0 row10\" >10</th>\n",
       "      <td id=\"T_34345_row10_col0\" class=\"data row10 col0\" >Hematology</td>\n",
       "      <td id=\"T_34345_row10_col1\" class=\"data row10 col1\" >Granulocytes</td>\n",
       "      <td id=\"T_34345_row10_col2\" class=\"data row10 col2\" >x10^3/µl</td>\n",
       "      <td id=\"T_34345_row10_col3\" class=\"data row10 col3\" >1.800000</td>\n",
       "      <td id=\"T_34345_row10_col4\" class=\"data row10 col4\" >9.000000</td>\n",
       "      <td id=\"T_34345_row10_col5\" class=\"data row10 col5\" >1.600000</td>\n",
       "      <td id=\"T_34345_row10_col6\" class=\"data row10 col6\" >7.800000</td>\n",
       "    </tr>\n",
       "    <tr>\n",
       "      <th id=\"T_34345_level0_row11\" class=\"row_heading level0 row11\" >11</th>\n",
       "      <td id=\"T_34345_row11_col0\" class=\"data row11 col0\" >Hematology</td>\n",
       "      <td id=\"T_34345_row11_col1\" class=\"data row11 col1\" >Eosinophils</td>\n",
       "      <td id=\"T_34345_row11_col2\" class=\"data row11 col2\" >x10^3/µl</td>\n",
       "      <td id=\"T_34345_row11_col3\" class=\"data row11 col3\" >0.000000</td>\n",
       "      <td id=\"T_34345_row11_col4\" class=\"data row11 col4\" >0.600000</td>\n",
       "      <td id=\"T_34345_row11_col5\" class=\"data row11 col5\" >0.000000</td>\n",
       "      <td id=\"T_34345_row11_col6\" class=\"data row11 col6\" >0.500000</td>\n",
       "    </tr>\n",
       "    <tr>\n",
       "      <th id=\"T_34345_level0_row12\" class=\"row_heading level0 row12\" >12</th>\n",
       "      <td id=\"T_34345_row12_col0\" class=\"data row12 col0\" >Hematology</td>\n",
       "      <td id=\"T_34345_row12_col1\" class=\"data row12 col1\" >Basophils</td>\n",
       "      <td id=\"T_34345_row12_col2\" class=\"data row12 col2\" >x10^3/µl</td>\n",
       "      <td id=\"T_34345_row12_col3\" class=\"data row12 col3\" >0.000000</td>\n",
       "      <td id=\"T_34345_row12_col4\" class=\"data row12 col4\" >0.070000</td>\n",
       "      <td id=\"T_34345_row12_col5\" class=\"data row12 col5\" >0.000000</td>\n",
       "      <td id=\"T_34345_row12_col6\" class=\"data row12 col6\" >0.100000</td>\n",
       "    </tr>\n",
       "    <tr>\n",
       "      <th id=\"T_34345_level0_row13\" class=\"row_heading level0 row13\" >13</th>\n",
       "      <td id=\"T_34345_row13_col0\" class=\"data row13 col0\" >Hematology</td>\n",
       "      <td id=\"T_34345_row13_col1\" class=\"data row13 col1\" >Lymphocytes</td>\n",
       "      <td id=\"T_34345_row13_col2\" class=\"data row13 col2\" >x10^3/µl</td>\n",
       "      <td id=\"T_34345_row13_col3\" class=\"data row13 col3\" >1.000000</td>\n",
       "      <td id=\"T_34345_row13_col4\" class=\"data row13 col4\" >3.000000</td>\n",
       "      <td id=\"T_34345_row13_col5\" class=\"data row13 col5\" >1.000000</td>\n",
       "      <td id=\"T_34345_row13_col6\" class=\"data row13 col6\" >3.500000</td>\n",
       "    </tr>\n",
       "    <tr>\n",
       "      <th id=\"T_34345_level0_row14\" class=\"row_heading level0 row14\" >14</th>\n",
       "      <td id=\"T_34345_row14_col0\" class=\"data row14 col0\" >Hematology</td>\n",
       "      <td id=\"T_34345_row14_col1\" class=\"data row14 col1\" >Monocytes</td>\n",
       "      <td id=\"T_34345_row14_col2\" class=\"data row14 col2\" >x10^3/µl</td>\n",
       "      <td id=\"T_34345_row14_col3\" class=\"data row14 col3\" >0.200000</td>\n",
       "      <td id=\"T_34345_row14_col4\" class=\"data row14 col4\" >1.000000</td>\n",
       "      <td id=\"T_34345_row14_col5\" class=\"data row14 col5\" >0.100000</td>\n",
       "      <td id=\"T_34345_row14_col6\" class=\"data row14 col6\" >0.900000</td>\n",
       "    </tr>\n",
       "    <tr>\n",
       "      <th id=\"T_34345_level0_row15\" class=\"row_heading level0 row15\" >15</th>\n",
       "      <td id=\"T_34345_row15_col0\" class=\"data row15 col0\" >Hematology</td>\n",
       "      <td id=\"T_34345_row15_col1\" class=\"data row15 col1\" >Granulocytes %</td>\n",
       "      <td id=\"T_34345_row15_col2\" class=\"data row15 col2\" >%</td>\n",
       "      <td id=\"T_34345_row15_col3\" class=\"data row15 col3\" >41.000000</td>\n",
       "      <td id=\"T_34345_row15_col4\" class=\"data row15 col4\" >74.000000</td>\n",
       "      <td id=\"T_34345_row15_col5\" class=\"data row15 col5\" >nan</td>\n",
       "      <td id=\"T_34345_row15_col6\" class=\"data row15 col6\" >nan</td>\n",
       "    </tr>\n",
       "    <tr>\n",
       "      <th id=\"T_34345_level0_row16\" class=\"row_heading level0 row16\" >16</th>\n",
       "      <td id=\"T_34345_row16_col0\" class=\"data row16 col0\" >Hematology</td>\n",
       "      <td id=\"T_34345_row16_col1\" class=\"data row16 col1\" >Eosinophils %</td>\n",
       "      <td id=\"T_34345_row16_col2\" class=\"data row16 col2\" >%</td>\n",
       "      <td id=\"T_34345_row16_col3\" class=\"data row16 col3\" >0.000000</td>\n",
       "      <td id=\"T_34345_row16_col4\" class=\"data row16 col4\" >7.000000</td>\n",
       "      <td id=\"T_34345_row16_col5\" class=\"data row16 col5\" >nan</td>\n",
       "      <td id=\"T_34345_row16_col6\" class=\"data row16 col6\" >nan</td>\n",
       "    </tr>\n",
       "    <tr>\n",
       "      <th id=\"T_34345_level0_row17\" class=\"row_heading level0 row17\" >17</th>\n",
       "      <td id=\"T_34345_row17_col0\" class=\"data row17 col0\" >Hematology</td>\n",
       "      <td id=\"T_34345_row17_col1\" class=\"data row17 col1\" >Basophils %</td>\n",
       "      <td id=\"T_34345_row17_col2\" class=\"data row17 col2\" >%</td>\n",
       "      <td id=\"T_34345_row17_col3\" class=\"data row17 col3\" >0.000000</td>\n",
       "      <td id=\"T_34345_row17_col4\" class=\"data row17 col4\" >1.200000</td>\n",
       "      <td id=\"T_34345_row17_col5\" class=\"data row17 col5\" >nan</td>\n",
       "      <td id=\"T_34345_row17_col6\" class=\"data row17 col6\" >nan</td>\n",
       "    </tr>\n",
       "    <tr>\n",
       "      <th id=\"T_34345_level0_row18\" class=\"row_heading level0 row18\" >18</th>\n",
       "      <td id=\"T_34345_row18_col0\" class=\"data row18 col0\" >Hematology</td>\n",
       "      <td id=\"T_34345_row18_col1\" class=\"data row18 col1\" >Lymphocytes %</td>\n",
       "      <td id=\"T_34345_row18_col2\" class=\"data row18 col2\" >%</td>\n",
       "      <td id=\"T_34345_row18_col3\" class=\"data row18 col3\" >18.000000</td>\n",
       "      <td id=\"T_34345_row18_col4\" class=\"data row18 col4\" >46.000000</td>\n",
       "      <td id=\"T_34345_row18_col5\" class=\"data row18 col5\" >nan</td>\n",
       "      <td id=\"T_34345_row18_col6\" class=\"data row18 col6\" >nan</td>\n",
       "    </tr>\n",
       "    <tr>\n",
       "      <th id=\"T_34345_level0_row19\" class=\"row_heading level0 row19\" >19</th>\n",
       "      <td id=\"T_34345_row19_col0\" class=\"data row19 col0\" >Hematology</td>\n",
       "      <td id=\"T_34345_row19_col1\" class=\"data row19 col1\" >Monocytes %</td>\n",
       "      <td id=\"T_34345_row19_col2\" class=\"data row19 col2\" >%</td>\n",
       "      <td id=\"T_34345_row19_col3\" class=\"data row19 col3\" >4.000000</td>\n",
       "      <td id=\"T_34345_row19_col4\" class=\"data row19 col4\" >15.000000</td>\n",
       "      <td id=\"T_34345_row19_col5\" class=\"data row19 col5\" >nan</td>\n",
       "      <td id=\"T_34345_row19_col6\" class=\"data row19 col6\" >nan</td>\n",
       "    </tr>\n",
       "    <tr>\n",
       "      <th id=\"T_34345_level0_row20\" class=\"row_heading level0 row20\" >20</th>\n",
       "      <td id=\"T_34345_row20_col0\" class=\"data row20 col0\" >Hematology</td>\n",
       "      <td id=\"T_34345_row20_col1\" class=\"data row20 col1\" >PDW</td>\n",
       "      <td id=\"T_34345_row20_col2\" class=\"data row20 col2\" >fl</td>\n",
       "      <td id=\"T_34345_row20_col3\" class=\"data row20 col3\" >10.000000</td>\n",
       "      <td id=\"T_34345_row20_col4\" class=\"data row20 col4\" >16.000000</td>\n",
       "      <td id=\"T_34345_row20_col5\" class=\"data row20 col5\" >10.000000</td>\n",
       "      <td id=\"T_34345_row20_col6\" class=\"data row20 col6\" >16.000000</td>\n",
       "    </tr>\n",
       "    <tr>\n",
       "      <th id=\"T_34345_level0_row21\" class=\"row_heading level0 row21\" >21</th>\n",
       "      <td id=\"T_34345_row21_col0\" class=\"data row21 col0\" >Hematology</td>\n",
       "      <td id=\"T_34345_row21_col1\" class=\"data row21 col1\" >PLCR</td>\n",
       "      <td id=\"T_34345_row21_col2\" class=\"data row21 col2\" >%</td>\n",
       "      <td id=\"T_34345_row21_col3\" class=\"data row21 col3\" >nan</td>\n",
       "      <td id=\"T_34345_row21_col4\" class=\"data row21 col4\" >nan</td>\n",
       "      <td id=\"T_34345_row21_col5\" class=\"data row21 col5\" >nan</td>\n",
       "      <td id=\"T_34345_row21_col6\" class=\"data row21 col6\" >nan</td>\n",
       "    </tr>\n",
       "    <tr>\n",
       "      <th id=\"T_34345_level0_row22\" class=\"row_heading level0 row22\" >22</th>\n",
       "      <td id=\"T_34345_row22_col0\" class=\"data row22 col0\" >Hematology</td>\n",
       "      <td id=\"T_34345_row22_col1\" class=\"data row22 col1\" >Immature Granulocytyes</td>\n",
       "      <td id=\"T_34345_row22_col2\" class=\"data row22 col2\" >%</td>\n",
       "      <td id=\"T_34345_row22_col3\" class=\"data row22 col3\" >nan</td>\n",
       "      <td id=\"T_34345_row22_col4\" class=\"data row22 col4\" >nan</td>\n",
       "      <td id=\"T_34345_row22_col5\" class=\"data row22 col5\" >nan</td>\n",
       "      <td id=\"T_34345_row22_col6\" class=\"data row22 col6\" >nan</td>\n",
       "    </tr>\n",
       "    <tr>\n",
       "      <th id=\"T_34345_level0_row23\" class=\"row_heading level0 row23\" >23</th>\n",
       "      <td id=\"T_34345_row23_col0\" class=\"data row23 col0\" >Hematology</td>\n",
       "      <td id=\"T_34345_row23_col1\" class=\"data row23 col1\" >Normoblasts</td>\n",
       "      <td id=\"T_34345_row23_col2\" class=\"data row23 col2\" >%</td>\n",
       "      <td id=\"T_34345_row23_col3\" class=\"data row23 col3\" >nan</td>\n",
       "      <td id=\"T_34345_row23_col4\" class=\"data row23 col4\" >nan</td>\n",
       "      <td id=\"T_34345_row23_col5\" class=\"data row23 col5\" >nan</td>\n",
       "      <td id=\"T_34345_row23_col6\" class=\"data row23 col6\" >nan</td>\n",
       "    </tr>\n",
       "    <tr>\n",
       "      <th id=\"T_34345_level0_row24\" class=\"row_heading level0 row24\" >24</th>\n",
       "      <td id=\"T_34345_row24_col0\" class=\"data row24 col0\" >Routine</td>\n",
       "      <td id=\"T_34345_row24_col1\" class=\"data row24 col1\" >aPPT</td>\n",
       "      <td id=\"T_34345_row24_col2\" class=\"data row24 col2\" >s</td>\n",
       "      <td id=\"T_34345_row24_col3\" class=\"data row24 col3\" >23.600000</td>\n",
       "      <td id=\"T_34345_row24_col4\" class=\"data row24 col4\" >34.800000</td>\n",
       "      <td id=\"T_34345_row24_col5\" class=\"data row24 col5\" >23.600000</td>\n",
       "      <td id=\"T_34345_row24_col6\" class=\"data row24 col6\" >34.800000</td>\n",
       "    </tr>\n",
       "    <tr>\n",
       "      <th id=\"T_34345_level0_row25\" class=\"row_heading level0 row25\" >25</th>\n",
       "      <td id=\"T_34345_row25_col0\" class=\"data row25 col0\" >Routine</td>\n",
       "      <td id=\"T_34345_row25_col1\" class=\"data row25 col1\" >INR</td>\n",
       "      <td id=\"T_34345_row25_col2\" class=\"data row25 col2\" >None</td>\n",
       "      <td id=\"T_34345_row25_col3\" class=\"data row25 col3\" >0.850000</td>\n",
       "      <td id=\"T_34345_row25_col4\" class=\"data row25 col4\" >1.150000</td>\n",
       "      <td id=\"T_34345_row25_col5\" class=\"data row25 col5\" >0.850000</td>\n",
       "      <td id=\"T_34345_row25_col6\" class=\"data row25 col6\" >1.150000</td>\n",
       "    </tr>\n",
       "    <tr>\n",
       "      <th id=\"T_34345_level0_row26\" class=\"row_heading level0 row26\" >26</th>\n",
       "      <td id=\"T_34345_row26_col0\" class=\"data row26 col0\" >Routine</td>\n",
       "      <td id=\"T_34345_row26_col1\" class=\"data row26 col1\" >PT</td>\n",
       "      <td id=\"T_34345_row26_col2\" class=\"data row26 col2\" >%</td>\n",
       "      <td id=\"T_34345_row26_col3\" class=\"data row26 col3\" >70.000000</td>\n",
       "      <td id=\"T_34345_row26_col4\" class=\"data row26 col4\" >nan</td>\n",
       "      <td id=\"T_34345_row26_col5\" class=\"data row26 col5\" >70.000000</td>\n",
       "      <td id=\"T_34345_row26_col6\" class=\"data row26 col6\" >nan</td>\n",
       "    </tr>\n",
       "    <tr>\n",
       "      <th id=\"T_34345_level0_row27\" class=\"row_heading level0 row27\" >27</th>\n",
       "      <td id=\"T_34345_row27_col0\" class=\"data row27 col0\" >Routine</td>\n",
       "      <td id=\"T_34345_row27_col1\" class=\"data row27 col1\" >Thrombin time</td>\n",
       "      <td id=\"T_34345_row27_col2\" class=\"data row27 col2\" >s</td>\n",
       "      <td id=\"T_34345_row27_col3\" class=\"data row27 col3\" >0.000000</td>\n",
       "      <td id=\"T_34345_row27_col4\" class=\"data row27 col4\" >21.000000</td>\n",
       "      <td id=\"T_34345_row27_col5\" class=\"data row27 col5\" >0.000000</td>\n",
       "      <td id=\"T_34345_row27_col6\" class=\"data row27 col6\" >21.000000</td>\n",
       "    </tr>\n",
       "    <tr>\n",
       "      <th id=\"T_34345_level0_row28\" class=\"row_heading level0 row28\" >28</th>\n",
       "      <td id=\"T_34345_row28_col0\" class=\"data row28 col0\" >Electrolytes</td>\n",
       "      <td id=\"T_34345_row28_col1\" class=\"data row28 col1\" >Potassium</td>\n",
       "      <td id=\"T_34345_row28_col2\" class=\"data row28 col2\" >mmol/l</td>\n",
       "      <td id=\"T_34345_row28_col3\" class=\"data row28 col3\" >3.600000</td>\n",
       "      <td id=\"T_34345_row28_col4\" class=\"data row28 col4\" >4.800000</td>\n",
       "      <td id=\"T_34345_row28_col5\" class=\"data row28 col5\" >3.600000</td>\n",
       "      <td id=\"T_34345_row28_col6\" class=\"data row28 col6\" >4.800000</td>\n",
       "    </tr>\n",
       "    <tr>\n",
       "      <th id=\"T_34345_level0_row29\" class=\"row_heading level0 row29\" >29</th>\n",
       "      <td id=\"T_34345_row29_col0\" class=\"data row29 col0\" >Electrolytes</td>\n",
       "      <td id=\"T_34345_row29_col1\" class=\"data row29 col1\" >Sodium</td>\n",
       "      <td id=\"T_34345_row29_col2\" class=\"data row29 col2\" >mmol/l</td>\n",
       "      <td id=\"T_34345_row29_col3\" class=\"data row29 col3\" >135.000000</td>\n",
       "      <td id=\"T_34345_row29_col4\" class=\"data row29 col4\" >145.000000</td>\n",
       "      <td id=\"T_34345_row29_col5\" class=\"data row29 col5\" >135.000000</td>\n",
       "      <td id=\"T_34345_row29_col6\" class=\"data row29 col6\" >145.000000</td>\n",
       "    </tr>\n",
       "    <tr>\n",
       "      <th id=\"T_34345_level0_row30\" class=\"row_heading level0 row30\" >30</th>\n",
       "      <td id=\"T_34345_row30_col0\" class=\"data row30 col0\" >Electrolytes</td>\n",
       "      <td id=\"T_34345_row30_col1\" class=\"data row30 col1\" >Chloride</td>\n",
       "      <td id=\"T_34345_row30_col2\" class=\"data row30 col2\" >mmol/l</td>\n",
       "      <td id=\"T_34345_row30_col3\" class=\"data row30 col3\" >98.000000</td>\n",
       "      <td id=\"T_34345_row30_col4\" class=\"data row30 col4\" >108.000000</td>\n",
       "      <td id=\"T_34345_row30_col5\" class=\"data row30 col5\" >98.000000</td>\n",
       "      <td id=\"T_34345_row30_col6\" class=\"data row30 col6\" >108.000000</td>\n",
       "    </tr>\n",
       "    <tr>\n",
       "      <th id=\"T_34345_level0_row31\" class=\"row_heading level0 row31\" >31</th>\n",
       "      <td id=\"T_34345_row31_col0\" class=\"data row31 col0\" >Renal function</td>\n",
       "      <td id=\"T_34345_row31_col1\" class=\"data row31 col1\" >Creatinine</td>\n",
       "      <td id=\"T_34345_row31_col2\" class=\"data row31 col2\" >mg/dl</td>\n",
       "      <td id=\"T_34345_row31_col3\" class=\"data row31 col3\" >0.670000</td>\n",
       "      <td id=\"T_34345_row31_col4\" class=\"data row31 col4\" >1.170000</td>\n",
       "      <td id=\"T_34345_row31_col5\" class=\"data row31 col5\" >0.510000</td>\n",
       "      <td id=\"T_34345_row31_col6\" class=\"data row31 col6\" >0.950000</td>\n",
       "    </tr>\n",
       "    <tr>\n",
       "      <th id=\"T_34345_level0_row32\" class=\"row_heading level0 row32\" >32</th>\n",
       "      <td id=\"T_34345_row32_col0\" class=\"data row32 col0\" >Renal function</td>\n",
       "      <td id=\"T_34345_row32_col1\" class=\"data row32 col1\" >Urea</td>\n",
       "      <td id=\"T_34345_row32_col2\" class=\"data row32 col2\" >mg/dl</td>\n",
       "      <td id=\"T_34345_row32_col3\" class=\"data row32 col3\" >17.000000</td>\n",
       "      <td id=\"T_34345_row32_col4\" class=\"data row32 col4\" >43.000000</td>\n",
       "      <td id=\"T_34345_row32_col5\" class=\"data row32 col5\" >17.000000</td>\n",
       "      <td id=\"T_34345_row32_col6\" class=\"data row32 col6\" >43.000000</td>\n",
       "    </tr>\n",
       "    <tr>\n",
       "      <th id=\"T_34345_level0_row33\" class=\"row_heading level0 row33\" >33</th>\n",
       "      <td id=\"T_34345_row33_col0\" class=\"data row33 col0\" >Mineral; bone; joint; connective tissue</td>\n",
       "      <td id=\"T_34345_row33_col1\" class=\"data row33 col1\" >Calcium</td>\n",
       "      <td id=\"T_34345_row33_col2\" class=\"data row33 col2\" >mmol/l</td>\n",
       "      <td id=\"T_34345_row33_col3\" class=\"data row33 col3\" >2.200000</td>\n",
       "      <td id=\"T_34345_row33_col4\" class=\"data row33 col4\" >2.650000</td>\n",
       "      <td id=\"T_34345_row33_col5\" class=\"data row33 col5\" >2.200000</td>\n",
       "      <td id=\"T_34345_row33_col6\" class=\"data row33 col6\" >2.650000</td>\n",
       "    </tr>\n",
       "    <tr>\n",
       "      <th id=\"T_34345_level0_row34\" class=\"row_heading level0 row34\" >34</th>\n",
       "      <td id=\"T_34345_row34_col0\" class=\"data row34 col0\" >Mineral; bone; joint; connective tissue</td>\n",
       "      <td id=\"T_34345_row34_col1\" class=\"data row34 col1\" >Magnesium</td>\n",
       "      <td id=\"T_34345_row34_col2\" class=\"data row34 col2\" >mmol/l</td>\n",
       "      <td id=\"T_34345_row34_col3\" class=\"data row34 col3\" >0.700000</td>\n",
       "      <td id=\"T_34345_row34_col4\" class=\"data row34 col4\" >1.100000</td>\n",
       "      <td id=\"T_34345_row34_col5\" class=\"data row34 col5\" >0.700000</td>\n",
       "      <td id=\"T_34345_row34_col6\" class=\"data row34 col6\" >1.100000</td>\n",
       "    </tr>\n",
       "    <tr>\n",
       "      <th id=\"T_34345_level0_row35\" class=\"row_heading level0 row35\" >35</th>\n",
       "      <td id=\"T_34345_row35_col0\" class=\"data row35 col0\" >Sugars/Sugar metabolism</td>\n",
       "      <td id=\"T_34345_row35_col1\" class=\"data row35 col1\" >Glucose</td>\n",
       "      <td id=\"T_34345_row35_col2\" class=\"data row35 col2\" >mg/dl</td>\n",
       "      <td id=\"T_34345_row35_col3\" class=\"data row35 col3\" >70.000000</td>\n",
       "      <td id=\"T_34345_row35_col4\" class=\"data row35 col4\" >110.000000</td>\n",
       "      <td id=\"T_34345_row35_col5\" class=\"data row35 col5\" >70.000000</td>\n",
       "      <td id=\"T_34345_row35_col6\" class=\"data row35 col6\" >110.000000</td>\n",
       "    </tr>\n",
       "    <tr>\n",
       "      <th id=\"T_34345_level0_row36\" class=\"row_heading level0 row36\" >36</th>\n",
       "      <td id=\"T_34345_row36_col0\" class=\"data row36 col0\" >Protein</td>\n",
       "      <td id=\"T_34345_row36_col1\" class=\"data row36 col1\" >CRP</td>\n",
       "      <td id=\"T_34345_row36_col2\" class=\"data row36 col2\" >mg/l</td>\n",
       "      <td id=\"T_34345_row36_col3\" class=\"data row36 col3\" >0.000000</td>\n",
       "      <td id=\"T_34345_row36_col4\" class=\"data row36 col4\" >5.000000</td>\n",
       "      <td id=\"T_34345_row36_col5\" class=\"data row36 col5\" >0.000000</td>\n",
       "      <td id=\"T_34345_row36_col6\" class=\"data row36 col6\" >5.000000</td>\n",
       "    </tr>\n",
       "    <tr>\n",
       "      <th id=\"T_34345_level0_row37\" class=\"row_heading level0 row37\" >37</th>\n",
       "      <td id=\"T_34345_row37_col0\" class=\"data row37 col0\" >OG</td>\n",
       "      <td id=\"T_34345_row37_col1\" class=\"data row37 col1\" >Glomerular filtration rate</td>\n",
       "      <td id=\"T_34345_row37_col2\" class=\"data row37 col2\" >ml/min</td>\n",
       "      <td id=\"T_34345_row37_col3\" class=\"data row37 col3\" >nan</td>\n",
       "      <td id=\"T_34345_row37_col4\" class=\"data row37 col4\" >nan</td>\n",
       "      <td id=\"T_34345_row37_col5\" class=\"data row37 col5\" >nan</td>\n",
       "      <td id=\"T_34345_row37_col6\" class=\"data row37 col6\" >nan</td>\n",
       "    </tr>\n",
       "  </tbody>\n",
       "</table>\n"
      ],
      "text/plain": [
       "<pandas.io.formats.style.Styler at 0x20fc1be7a30>"
      ]
     },
     "execution_count": 27,
     "metadata": {},
     "output_type": "execute_result"
    }
   ],
   "source": [
    "ref.style.highlight_null(\"yellow\")"
   ]
  },
  {
   "cell_type": "code",
   "execution_count": 28,
   "id": "5d5b5db7",
   "metadata": {},
   "outputs": [],
   "source": [
    "def categorize(x):\n",
    "    if pd.isnull(x[f\"normal_{x.sex}_min\"]) or pd.isnull(x[f\"normal_{x.sex}_max\"]):\n",
    "        return \"not available\"\n",
    "    elif x[\"value\"] < x[f\"normal_{x.sex}_min\"]:\n",
    "        return \"low\"\n",
    "    elif x[\"value\"] > x[f\"normal_{x.sex}_max\"]:\n",
    "        return \"high\"\n",
    "    else:\n",
    "        return \"normal\""
   ]
  },
  {
   "cell_type": "code",
   "execution_count": 29,
   "id": "c323f933",
   "metadata": {},
   "outputs": [],
   "source": [
    "# find normal values and gender for each patient, merge in df\n",
    "df = pd.merge(blood, clinical, on=\"patient_id\", how=\"left\")\n",
    "df = pd.merge(df, ref, on=\"analyte_name\", how=\"left\")\n",
    "df[\"normal\"] = df.apply(categorize, axis=1)"
   ]
  },
  {
   "cell_type": "code",
   "execution_count": 30,
   "id": "9b239365",
   "metadata": {},
   "outputs": [
    {
     "data": {
      "image/png": "[encoded data removed]",
      "text/plain": [
       "<Figure size 400x200 with 1 Axes>"
      ]
     },
     "metadata": {},
     "output_type": "display_data"
    }
   ],
   "source": [
    "plt.figure(figsize=(4, 2))\n",
    "sns.countplot(df, x=\"normal\")\n",
    "plt.show()"
   ]
  },
  {
   "cell_type": "code",
   "execution_count": 31,
   "id": "cc85be9d",
   "metadata": {},
   "outputs": [],
   "source": [
    "count = df.groupby([\"analyte_name\", \"normal\"])[\"normal\"].count().unstack(fill_value=0)\n",
    "count = count.reset_index().rename_axis(None, axis=1)\n",
    "count = count[[\"analyte_name\", \"normal\", \"low\", \"high\", \"not available\"]]"
   ]
  },
  {
   "cell_type": "code",
   "execution_count": 32,
   "id": "503bc972",
   "metadata": {},
   "outputs": [
    {
     "data": {
      "image/png": "[encoded data removed]",
      "text/plain": [
       "<Figure size 450x80 with 1 Axes>"
      ]
     },
     "metadata": {},
     "output_type": "display_data"
    }
   ],
   "source": [
    "palette = [sns.color_palette('Set2')[1], sns.color_palette('Set2')[2], sns.color_palette('Set2')[0], sns.color_palette('Set2')[3]]\n",
    "ax = count.plot.bar(stacked=True, figsize=(4.5, 0.8), color=sns.color_palette('Set2'), width=0.7, edgecolor=\"black\", linewidth=0)\n",
    "ax.set_xticks(count.index, count.analyte_name)\n",
    "plt.ylabel(\"Number of patients\", fontsize=6)\n",
    "plt.legend(loc='center left', bbox_to_anchor=(1.05, 0.5), frameon=False)\n",
    "sns.despine()\n",
    "plt.show()"
   ]
  }
 ],
 "metadata": {
  "kernelspec": {
   "display_name": "Python 3 (ipykernel)",
   "language": "python",
   "name": "python3"
  },
  "language_info": {
   "codemirror_mode": {
    "name": "ipython",
    "version": 3
   },
   "file_extension": ".py",
   "mimetype": "text/x-python",
   "name": "python",
   "nbconvert_exporter": "python",
   "pygments_lexer": "ipython3",
   "version": "3.9.19"
  }
 },
 "nbformat": 4,
 "nbformat_minor": 5
}
