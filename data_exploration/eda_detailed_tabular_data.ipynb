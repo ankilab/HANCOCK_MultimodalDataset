{
 "cells": [
  {
   "cell_type": "markdown",
   "metadata": {},
   "source": [
    "# Data Exploration for the Tabular Data from the files in the Structured Data Folder"
   ]
  },
  {
   "cell_type": "code",
   "execution_count": 1,
   "metadata": {},
   "outputs": [],
   "source": [
    "import matplotlib.pyplot as plt\n",
    "import seaborn as sns\n",
    "import pandas as pd\n",
    "import numpy as np\n",
    "from matplotlib import rcParams\n",
    "from pathlib import Path"
   ]
  },
  {
   "cell_type": "code",
   "execution_count": 2,
   "metadata": {},
   "outputs": [],
   "source": [
    "rcParams.update({\"font.size\": 6})\n",
    "rcParams[\"svg.fonttype\"] = \"none\""
   ]
  },
  {
   "cell_type": "markdown",
   "metadata": {},
   "source": [
    "## Load the Data"
   ]
  },
  {
   "cell_type": "code",
   "execution_count": 3,
   "metadata": {},
   "outputs": [],
   "source": [
    "data_dir = Path.cwd() / '..' / '..' / 'Hancock_Dataset' / 'StructuredData'"
   ]
  },
  {
   "cell_type": "code",
   "execution_count": 4,
   "metadata": {},
   "outputs": [],
   "source": [
    "clinical = pd.read_json(data_dir/\"clinical_data.json\", dtype={\"patient_id\": str})\n",
    "patho = pd.read_json(data_dir/\"pathological_data.json\", dtype={\"patient_id\": str})\n",
    "blood = pd.read_json(data_dir/\"blood_data.json\", dtype={\"patient_id\": str})\n",
    "ref = pd.read_json(data_dir/\"blood_data_reference_ranges.json\").drop([\"LOINC_name\"], axis=1)"
   ]
  },
  {
   "cell_type": "markdown",
   "metadata": {},
   "source": [
    "## Pathological Data"
   ]
  },
  {
   "cell_type": "markdown",
   "metadata": {},
   "source": [
    "### Primary Tumor Site\n",
    "Data type: object\n",
    "\n",
    "Meaning: In the context of cancer, the primary tumor site refers to the **original anatomical location** where cancer cells first arise and begin to grow uncontrollably. It's the initial point of origin for the cancerous process. [National Cancer Institute](https://www.cancer.gov/publications/dictionaries/cancer-terms/def/primary-tumor)\n",
    "\n",
    "Values: CUP, Hypopharynx, Larynx, Oral_Cavity, Oropharynx\n",
    "- CUP: Cancer of unknown primary means that cancer spread (secondary cancer) has been found in the body, but doctors don't know where the cancer started (the primary tumor) [Cancer Research UK](https://www.cancerresearchuk.org/about-cancer/cancer-unknown-primary-cup/about)\n",
    "- Hypopharynx: Unter einem **Hypopharynxkarzinom** versteht man einen [malignen](https://flexikon.doccheck.com/de/Maligne) [Tumor](https://flexikon.doccheck.com/de/Tumor) im Bereich des [Hypopharynx](https://flexikon.doccheck.com/de/Hypopharynx) (unterer Schlundbereich). Das Hypopharynxkarzinom ist eine Form des [Larynxkarzinoms](https://flexikon.doccheck.com/de/Larynxkarzinom). [DocFlex](https://flexikon.doccheck.com/de/Hypopharynxkarzinom)\n",
    "- Oral Cavity: The oral cavity, or more commonly known as the mouth or buccal cavity, serves as the first portion of the digestive system. It consists of several different anatomically different aspects that work together effectively and efficiently to perform several functions. These aspects include the lips, tongue, palate, and teeth. Although a small compartment, the oral cavity is a unique and complex structure with several different nerves and blood vessels inside it. [Anatomy, Head and Neck, Ora Cavity](https://pubmed.ncbi.nlm.nih.gov/31424855/)\n",
    "- Oropharynx: The middle part of the throat, behind the mouth. The oropharynx includes the soft palate (the back muscular part of the roof of the mouth), the side and back walls of the throat, the tonsils, and the back one-third of the tongue. [National Cancer Institute](https://www.cancer.gov/publications/dictionaries/cancer-terms/def/oropharynx)\n"
   ]
  },
  {
   "cell_type": "code",
   "execution_count": 5,
   "metadata": {},
   "outputs": [
    {
     "data": {
      "text/plain": [
       "primary_tumor_site\n",
       "CUP              2\n",
       "Hypopharynx     89\n",
       "Oral Cavity    134\n",
       "Larynx         207\n",
       "Oropharynx     331\n",
       "Name: count, dtype: int64"
      ]
     },
     "execution_count": 5,
     "metadata": {},
     "output_type": "execute_result"
    }
   ],
   "source": [
    "site = patho[\"primary_tumor_site\"].value_counts().sort_values()\n",
    "site.index = site.index.str.replace('_', ' ')\n",
    "site"
   ]
  },
  {
   "cell_type": "code",
   "execution_count": 6,
   "metadata": {},
   "outputs": [
    {
     "data": {
      "image/png": "[encoded data removed]",
      "text/plain": [
       "<Figure size 80x80 with 1 Axes>"
      ]
     },
     "metadata": {},
     "output_type": "display_data"
    }
   ],
   "source": [
    "plt.figure(figsize=(0.8, 0.8))\n",
    "color = sns.color_palette(\"Set2\")[2]\n",
    "ax = plt.barh(site.index, site.values, color=color)\n",
    "plt.bar_label(ax, padding=2, fontsize=6)\n",
    "sns.despine()\n",
    "plt.xlabel(\"# Patients\", fontsize=6)\n",
    "plt.show()"
   ]
  },
  {
   "cell_type": "markdown",
   "metadata": {},
   "source": [
    "### Staging\n",
    "#### pT-Stage\n",
    "Data type: object\n",
    "\n",
    "Meaning: The TNM staging system stands for Tumor, Node, Metastasis. T describes the size of the tumor and how far it has spread into nearby tissue. It can be 1, 2, 3 or 4, with 1 being small and 4 large [Cancer Research UK](https://www.cancerresearchuk.org/about-cancer/what-is-cancer/stages-of-cancer). \n",
    "\n",
    "Values: 'pT4a', 'pT2', 'pT1', 'pT3', 'pT1b', 'pTis', 'pT1a', 'pT4b', 'TX'\n",
    "- **pT4a:** This is a subcategory within pT4. The specific distinction between pT4a and pT4b (which might exist depending on the specific cancer type) can vary. However, in some cases, pT4a might indicate that the tumor has **infiltrated neighboring organs**.\n",
    "    \n",
    "- **pT4is (pT4 in situ):** This is less common, but it can be used in some cancer types to describe a situation where the tumor is very large and **approaches or involves surrounding structures**, but hasn't demonstrably invaded them yet.\n",
    "    \n",
    "- **TX:** This code signifies that the **primary tumor cannot be assessed** due to limitations or lack of information. This could be because the tumor is hidden or inaccessible for examination, or there's insufficient data available"
   ]
  },
  {
   "cell_type": "code",
   "execution_count": 7,
   "metadata": {},
   "outputs": [],
   "source": [
    "tstage = patho[\"pT_stage\"].replace({\"pT4a\": \"pT4\", \"pT4b\": \"pT4\", \"pT1a\": \"pT1\", \"pT1b\": \"pT1\"}).value_counts().sort_values()\n",
    "tstage = tstage.sort_values(ascending=True)"
   ]
  },
  {
   "cell_type": "code",
   "execution_count": 8,
   "metadata": {},
   "outputs": [
    {
     "data": {
      "image/png": "[encoded data removed]",
      "text/plain": [
       "<Figure size 80x80 with 1 Axes>"
      ]
     },
     "metadata": {},
     "output_type": "display_data"
    }
   ],
   "source": [
    "plt.figure(figsize=(0.8, 0.8))\n",
    "color = sns.color_palette(\"Set2\")[2]\n",
    "ax = plt.barh(tstage.index, tstage.values, color=color)\n",
    "plt.bar_label(ax, padding=2, fontsize=6)\n",
    "sns.despine()\n",
    "plt.xlabel(\"# Patients\", fontsize=6)\n",
    "plt.show()"
   ]
  },
  {
   "cell_type": "markdown",
   "metadata": {},
   "source": [
    "#### pN-Stage\n",
    "Data Type: object\n",
    "\n",
    "Meaning: The TNM staging system stands for Tumor, Node, Metastasis. N refers to whether the cancer has spread to the lymph nodes. It can be between 0 and 3. 0 means that there are no lymph nodes containing cancer cells. And 3 means that here are lots of lymph nodes containing cancer cells. [Cancer Research UK](https://www.cancerresearchuk.org/about-cancer/what-is-cancer/stages-of-cancer)\n",
    "\n",
    "Values: 'pN2b', 'pN2c', 'pN1', 'pN0', 'NX', 'pN3b', 'pN1a', 'pN2a', 'pN2', 'pN3'\n",
    "- **pNx:** This code signifies that the **lymph nodes cannot be assessed**. This could be due to several reasons, such as:\n",
    "    - The lymph nodes were not removed or biopsied during surgery.\n",
    "    - Imaging tests were inconclusive for lymph node involvement.\n",
    "    - The location of the primary tumor makes it difficult to assess the lymph nodes.\n",
    "- **pN with additional letters (a, b, c):** In some cancer types, the pN stage might be further sub-categorized using letters (a, b, c) to provide more granular details about the extent of lymph node involvement. The specific meaning of these letters can vary depending on the cancer type."
   ]
  },
  {
   "cell_type": "code",
   "execution_count": 9,
   "metadata": {},
   "outputs": [],
   "source": [
    "nstage = patho[\"pN_stage\"].apply(lambda x: \"xNX\" if x==\"NX\" else str(x)[:3]).value_counts().sort_values()\n",
    "nstage = nstage.sort_index(ascending=False)"
   ]
  },
  {
   "cell_type": "code",
   "execution_count": 10,
   "metadata": {},
   "outputs": [
    {
     "data": {
      "image/png": "[encoded data removed]",
      "text/plain": [
       "<Figure size 80x80 with 1 Axes>"
      ]
     },
     "metadata": {},
     "output_type": "display_data"
    }
   ],
   "source": [
    "plt.figure(figsize=(0.8, 0.8))\n",
    "color = sns.color_palette(\"Set2\")[2]\n",
    "ax = plt.barh(nstage.index, nstage.values, color=color)\n",
    "plt.bar_label(ax, padding=2, fontsize=6)\n",
    "sns.despine()\n",
    "plt.xlabel(\"# Patients\", fontsize=8)\n",
    "plt.show()"
   ]
  },
  {
   "cell_type": "markdown",
   "metadata": {},
   "source": [
    "### Grading\n",
    "Data Type: object\n",
    "\n",
    "Meaning: In most cases, doctors need to study a sample of tissue from the tumor to decide if it is cancer and, if it is, its grade. They obtain this tissue by doing a biopsy, a procedure in which they remove all or part of the tumor. A specialist called a [pathologist](https://www.cancer.gov/Common/PopUps/popDefinition.aspx?id=CDR0000046244&version=Patient&language=en) determines the grade of your tumor by studying samples from the biopsy under a microscope. The pathologist describes the findings in a [pathology report](https://www.cancer.gov/Common/PopUps/popDefinition.aspx?id=CDR0000044702&version=Patient&language=en), which also contains other details about your diagnosis. \n",
    "Cells that look more normal might be called well-differentiated in the pathology report. And cells that look less normal might be called poorly differentiated or undifferentiated. Based on these and other features of how cells look under the microscope, the pathologist will assign a number to describe the grade.\n",
    "\n",
    "Values:\n",
    "Systems for describing tumor grade can differ depending on the type of cancer. But most tumors are graded as X, 1, 2, 3, or 4. \n",
    "- Grade X: Grade cannot be assessed (undetermined grade)\n",
    "- Grade 1: Well differentiated (low grade)\n",
    "- Grade 2: Moderately differentiated (intermediate grade)\n",
    "- Grade 3: Poorly differentiated (high grade)\n",
    "- Grade 4: Undifferentiated (high grade)\n",
    "- 'hpv_association_p16' [PubMed](https://www.ncbi.nlm.nih.gov/pmc/articles/PMC10124586/): \n",
    "\t- **p16:** This is a protein that acts as a tumor suppressor. In some cancers, particularly HNSCC, loss of p16 function can be a marker for HPV infection. A test can be performed to assess p16 expression in tumor cells.\n",
    "\t- **HPV:** Certain strains of HPV, particularly HPV16 and HPV18, are known risk factors for some cancers, including a subset of HNSCC. HPV infection can disrupt the p16 protein, leading to its loss of function.\n"
   ]
  },
  {
   "cell_type": "code",
   "execution_count": 11,
   "metadata": {},
   "outputs": [
    {
     "data": {
      "text/plain": [
       "grading\n",
       "HPV+    141\n",
       "G3      370\n",
       "G2      236\n",
       "G1       16\n",
       "Name: count, dtype: int64"
      ]
     },
     "execution_count": 11,
     "metadata": {},
     "output_type": "execute_result"
    }
   ],
   "source": [
    "grading = patho.grading.replace(\"hpv_association_p16\", \"HPV+\").value_counts()[[\"HPV+\", \"G3\", \"G2\", \"G1\"]]\n",
    "grading"
   ]
  },
  {
   "cell_type": "code",
   "execution_count": 12,
   "metadata": {},
   "outputs": [
    {
     "data": {
      "image/png": "[encoded data removed]",
      "text/plain": [
       "<Figure size 80x80 with 1 Axes>"
      ]
     },
     "metadata": {},
     "output_type": "display_data"
    }
   ],
   "source": [
    "\n",
    "plt.figure(figsize=(0.8, 0.8))\n",
    "color = sns.color_palette(\"Set2\")[2]\n",
    "ax = plt.barh(grading.index, grading.values, color=color)\n",
    "plt.bar_label(ax, padding=2, fontsize=6)\n",
    "sns.despine()\n",
    "plt.xlabel(\"# Patients\", fontsize=6)\n",
    "plt.ylabel(\"Grading\", fontsize=6)\n",
    "plt.show()"
   ]
  },
  {
   "cell_type": "markdown",
   "metadata": {},
   "source": [
    "### HPV Association p16\n",
    "Data type: object\n",
    "\n",
    "Meaning: The p16 protein is a indirect marker for the human papillomavirus. [PubMed](https://www.ncbi.nlm.nih.gov/pmc/articles/PMC10124586/)\n",
    "\n",
    "Values: 'not_tested', 'positive', 'negative'"
   ]
  },
  {
   "cell_type": "code",
   "execution_count": 13,
   "metadata": {},
   "outputs": [
    {
     "data": {
      "text/plain": [
       "hpv_association_p16\n",
       "not_tested    431\n",
       "negative      191\n",
       "positive      141\n",
       "Name: count, dtype: int64"
      ]
     },
     "execution_count": 13,
     "metadata": {},
     "output_type": "execute_result"
    }
   ],
   "source": [
    "hpv_association_16 = patho['hpv_association_p16'].value_counts()\n",
    "hpv_association_16"
   ]
  },
  {
   "cell_type": "code",
   "execution_count": 14,
   "metadata": {},
   "outputs": [
    {
     "data": {
      "image/png": "[encoded data removed]",
      "text/plain": [
       "<Figure size 80x80 with 1 Axes>"
      ]
     },
     "metadata": {},
     "output_type": "display_data"
    }
   ],
   "source": [
    "plt.figure(figsize=(0.8, 0.8))\n",
    "color = sns.color_palette(\"Set2\")[2]\n",
    "ax = plt.barh(hpv_association_16.index, hpv_association_16.values, color=color)\n",
    "plt.bar_label(ax, padding=2, fontsize=6)\n",
    "sns.despine()\n",
    "plt.xlabel('# Patients', fontsize=6)\n",
    "plt.ylabel('HPV association p16', fontsize=5)\n",
    "plt.show()"
   ]
  },
  {
   "cell_type": "markdown",
   "metadata": {},
   "source": [
    "### Number of positive lymph nodes\n",
    "Data type: Float64\n",
    "\n",
    "Meaning: Refer to lymph nodes that contain cancer cells. [PubMed](https://pubmed.ncbi.nlm.nih.gov/23229885/)\n",
    "\n",
    "Values:  0.,  1.,  2.,  3.,  4.,  5.,  6.,  7.,  8.,  9., 10., 11., 12.,\n",
    "       13., 14., 15., 16., 17., 23., 25., 26., 28., 33., 38., 52., nan"
   ]
  },
  {
   "cell_type": "code",
   "execution_count": 15,
   "metadata": {},
   "outputs": [],
   "source": [
    "num_pos_lymp_nodes = patho['number_of_positive_lymph_nodes'].value_counts()\\\n",
    "    .sort_index()\n",
    "sum_nan = np.sum(np.isnan(patho['number_of_positive_lymph_nodes']))"
   ]
  },
  {
   "cell_type": "code",
   "execution_count": 16,
   "metadata": {},
   "outputs": [
    {
     "data": {
      "image/png": "[encoded data removed]",
      "text/plain": [
       "<Figure size 120x80 with 1 Axes>"
      ]
     },
     "metadata": {},
     "output_type": "display_data"
    }
   ],
   "source": [
    "plt.figure(figsize=(1.2, 0.8))\n",
    "color = sns.color_palette(\"Set2\")[2]\n",
    "ax = plt.bar(num_pos_lymp_nodes.index.to_list(), num_pos_lymp_nodes.values, color=color)\n",
    "sns.despine()\n",
    "plt.xlabel('# postive lymp nodes', fontsize=5)\n",
    "plt.ylabel('# Patients', fontsize=5)\n",
    "plt.show()"
   ]
  },
  {
   "cell_type": "markdown",
   "metadata": {},
   "source": [
    "### Number of resected lymph nodes\n",
    "Data type: int64\n",
    "\n",
    "Meaning: A lymph node dissection is surgery to remove an area of lymph nodes. It is done to remove lymph nodes that have cancer and other lymph nodes when there is a very high chance that the cancer may spread there. It is also called a lymphadenectomy. [Canadian Cancer Society](https://cancer.ca/en/treatments/tests-and-procedures/lymph-node-dissection)\n",
    "\n",
    "Values: 0,  1,  2,  4,  5,  6,  8,  9, 10, 11, 12, 13, 14, 15, 16, 17, 18,\n",
    "       19, 20, 21, 22, 23, 24, 25, 26, 27, 28, 29, 30, 31, 32, 33, 34, 35,\n",
    "       36, 37, 38, 39, 40, 41, 42, 43, 44, 45, 46, 47, 48, 49, 50, 51, 52,\n",
    "       53, 54, 55, 56, 57, 58, 59, 60, 61, 62, 63, 64, 65, 66, 67, 68, 69,\n",
    "       72, 74, 78, 79, 90, 93"
   ]
  },
  {
   "cell_type": "code",
   "execution_count": 17,
   "metadata": {},
   "outputs": [],
   "source": [
    "res_lymph_nodes = patho['number_of_resected_lymph_nodes'].value_counts().sort_index()"
   ]
  },
  {
   "cell_type": "code",
   "execution_count": 18,
   "metadata": {},
   "outputs": [
    {
     "data": {
      "image/png": "[encoded data removed]",
      "text/plain": [
       "<Figure size 120x80 with 1 Axes>"
      ]
     },
     "metadata": {},
     "output_type": "display_data"
    }
   ],
   "source": [
    "plt.figure(figsize=(1.2, 0.8))\n",
    "color = sns.color_palette(\"Set2\")[2]\n",
    "ax = plt.bar(res_lymph_nodes.index.to_list(), res_lymph_nodes.values, color=color)\n",
    "sns.despine()\n",
    "plt.xlabel('# resected lymph nodes', fontsize=5)\n",
    "plt.ylabel('# Patients', fontsize=5)\n",
    "plt.show()"
   ]
  },
  {
   "cell_type": "markdown",
   "metadata": {},
   "source": [
    "### Perinodal Invasion\n",
    "Data type: Object\n",
    "\n",
    "Meaning: If \"perinodal\" refers to tissue surrounding a lymph node (nodal being related to lymph nodes), it could be a less common way to describe the area near a lymph node. However, there's no established term for \"perinodal invasion\" in this context. Cancer spread to lymph nodes is typically referred to as lymph node metastasis.\n",
    "\n",
    "Values:'yes', 'no', None"
   ]
  },
  {
   "cell_type": "code",
   "execution_count": 19,
   "metadata": {},
   "outputs": [],
   "source": [
    "perinodal_invasion = patho['perinodal_invasion'].apply(lambda x: 'None' if x == None else x).value_counts()"
   ]
  },
  {
   "cell_type": "code",
   "execution_count": 20,
   "metadata": {},
   "outputs": [
    {
     "data": {
      "image/png": "[encoded data removed]",
      "text/plain": [
       "<Figure size 80x80 with 1 Axes>"
      ]
     },
     "metadata": {},
     "output_type": "display_data"
    }
   ],
   "source": [
    "plt.figure(figsize=(0.8, 0.8))\n",
    "color = sns.color_palette(\"Set2\")[2]\n",
    "ax = plt.barh(perinodal_invasion.index, perinodal_invasion.values, color=color)\n",
    "plt.bar_label(ax, padding=2, fontsize=6)\n",
    "sns.despine()\n",
    "plt.xlabel(\"# Patients\", fontsize=6)\n",
    "plt.ylabel(\"Perinodal Invasion\", fontsize=6)\n",
    "plt.show()"
   ]
  },
  {
   "cell_type": "markdown",
   "metadata": {},
   "source": [
    "### Lymphovascular Invasion\n",
    "Data type: Object\n",
    "\n",
    "Meaning: Lymphovascular invasion (LVI or lymphovascular space invasion) is the invasion of a cancer to the blood vessels and/or lymphatics. [Wiki](https://en.wikipedia.org/wiki/Lymphovascular_invasion)\n",
    "\n",
    "Values:'yes', 'no'"
   ]
  },
  {
   "cell_type": "code",
   "execution_count": 21,
   "metadata": {},
   "outputs": [],
   "source": [
    "lymphovascular_invasion = patho['lymphovascular_invasion_L'].value_counts()"
   ]
  },
  {
   "cell_type": "code",
   "execution_count": 22,
   "metadata": {},
   "outputs": [
    {
     "data": {
      "image/png": "[encoded data removed]",
      "text/plain": [
       "<Figure size 80x80 with 1 Axes>"
      ]
     },
     "metadata": {},
     "output_type": "display_data"
    }
   ],
   "source": [
    "plt.figure(figsize=(0.8, 0.8))\n",
    "color = sns.color_palette(\"Set2\")[2]\n",
    "ax = plt.barh(lymphovascular_invasion.index, lymphovascular_invasion.values, color=color)\n",
    "plt.bar_label(ax, padding=2, fontsize=6)\n",
    "sns.despine()\n",
    "plt.xlabel(\"# Patients\", fontsize=6)\n",
    "plt.ylabel(\"Lymphovascular Invasion\", fontsize=4)\n",
    "plt.show()"
   ]
  },
  {
   "cell_type": "markdown",
   "metadata": {},
   "source": [
    "### Vascular Invasion V\n",
    "Data type: Object\n",
    "\n",
    "Meaning: Before a cancer can spread to the rest of the body, it has to get into the channels that go through the rest of the body; that's lymph channels or blood channels, particularly the venous system. If the cell gets into the veins, it can go to the heart, and the heart can pump those cells to the rest of the body; and it might grow in those places. [abc News](https://abcnews.go.com/Health/OnCallPlusScreeningAndDiagnosis/story?id=4807831)\n",
    "\n",
    "Values: 'no', 'yes'"
   ]
  },
  {
   "cell_type": "code",
   "execution_count": 23,
   "metadata": {},
   "outputs": [],
   "source": [
    "vascular_invastion = patho['vascular_invasion_V'].value_counts()"
   ]
  },
  {
   "cell_type": "code",
   "execution_count": 24,
   "metadata": {},
   "outputs": [
    {
     "data": {
      "image/png": "[encoded data removed]",
      "text/plain": [
       "<Figure size 80x80 with 1 Axes>"
      ]
     },
     "metadata": {},
     "output_type": "display_data"
    }
   ],
   "source": [
    "plt.figure(figsize=(0.8, 0.8))\n",
    "color = sns.color_palette(\"Set2\")[2]\n",
    "ax = plt.barh(vascular_invastion.index, vascular_invastion.values, color=color)\n",
    "plt.bar_label(ax, padding=2, fontsize=6)\n",
    "sns.despine()\n",
    "plt.xlabel(\"# Patients\", fontsize=6)\n",
    "plt.ylabel(\"Vascular Invasion\", fontsize=6)\n",
    "plt.show()"
   ]
  },
  {
   "cell_type": "markdown",
   "metadata": {},
   "source": []
  },
  {
   "cell_type": "markdown",
   "metadata": {},
   "source": [
    "### Perineural Invasion\n",
    "Data types: Object\n",
    "\n",
    "Meaning: Perineural invasion (PNI) can be found in a variety of malignant tumors. It is a sign of tumor metastasis and invasion and portends the poor prognosis of patients [PubMed](https://www.ncbi.nlm.nih.gov/pmc/articles/PMC6356921/)\n",
    "\n",
    "Values: 'no', 'yes'"
   ]
  },
  {
   "cell_type": "code",
   "execution_count": 25,
   "metadata": {},
   "outputs": [],
   "source": [
    "perineural_invasion = patho['perineural_invasion_Pn'].value_counts()"
   ]
  },
  {
   "cell_type": "code",
   "execution_count": 26,
   "metadata": {},
   "outputs": [
    {
     "data": {
      "image/png": "[encoded data removed]",
      "text/plain": [
       "<Figure size 80x80 with 1 Axes>"
      ]
     },
     "metadata": {},
     "output_type": "display_data"
    }
   ],
   "source": [
    "plt.figure(figsize=(0.8, 0.8))\n",
    "color = sns.color_palette(\"Set2\")[2]\n",
    "ax = plt.barh(perineural_invasion.index, perineural_invasion.values, color=color)\n",
    "plt.bar_label(ax, padding=2, fontsize=6)\n",
    "sns.despine()\n",
    "plt.xlabel(\"# Patients\", fontsize=6)\n",
    "plt.ylabel('Perineural Invasion', fontsize=6)\n",
    "plt.show()"
   ]
  },
  {
   "cell_type": "markdown",
   "metadata": {},
   "source": [
    "### Resection Status\n",
    "Data type: Object\n",
    "\n",
    "Meaning:\n",
    "- R0 resection: Removal of tumor in healthy tissue. No tumor tissue is seen in the resection margin on histopathology.\n",
    "- R1 resection: Tumor is macroscopically removed. However, histopathology shows smaller pieces of tumor in the resection margin.\n",
    "- R2 resection: Larger, macroscopically visible parts of the tumor could not be resected (preservation of vital structures).\n",
    "- RX: This is a code used in tumor reporting systems (like the AJCC TNM staging system) to signify an \"unable to assess\" situation.\n",
    "- en bloc resection: removal with adjacent organs.\n",
    "\n",
    "Values: 'R0', 'R1', 'R2', 'RX'"
   ]
  },
  {
   "cell_type": "code",
   "execution_count": 27,
   "metadata": {},
   "outputs": [
    {
     "data": {
      "text/plain": [
       "resection_status\n",
       "R0    685\n",
       "R1     51\n",
       "RX     25\n",
       "R2      2\n",
       "Name: count, dtype: int64"
      ]
     },
     "execution_count": 27,
     "metadata": {},
     "output_type": "execute_result"
    }
   ],
   "source": [
    "resection_status = patho['resection_status'].value_counts()\n",
    "resection_status"
   ]
  },
  {
   "cell_type": "code",
   "execution_count": 28,
   "metadata": {},
   "outputs": [
    {
     "data": {
      "image/png": "[encoded data removed]",
      "text/plain": [
       "<Figure size 80x80 with 1 Axes>"
      ]
     },
     "metadata": {},
     "output_type": "display_data"
    }
   ],
   "source": [
    "plt.figure(figsize=(0.8, 0.8))\n",
    "color = sns.color_palette(\"Set2\")[2]\n",
    "ax = plt.barh(resection_status.index, resection_status.values, color=color)\n",
    "plt.bar_label(ax, padding=2, fontsize=6)\n",
    "sns.despine()\n",
    "plt.xlabel(\"# Patients\", fontsize=6)\n",
    "plt.ylabel(\"Resectiono Status\", fontsize=6)\n",
    "plt.show()"
   ]
  },
  {
   "cell_type": "markdown",
   "metadata": {},
   "source": [
    "### Resection Status Carcinoma in situ\n",
    "Data type:\n",
    "\n",
    "Meaning:\n",
    "- CIS (Carcinoma in situ): This refers to a condition where abnormal cells are present within the tissue layer they originated from (in situ means \"in place\"). These cells have the potential to become invasive cancer but haven't yet breached the basement membrane (a barrier separating tissues).\n",
    "- CIS Absent: This indicates that no carcinoma in situ (CIS) cells were identified in the resected tissue sample. This is a positive finding, suggesting complete removal of the abnormal cells.\n",
    "- Ris0 (Risk 0): This could signify a very low risk of CIS recurrence. It's a favorable outcome, suggesting a low chance of the abnormal cells returning.\n",
    "- Ris1 (Risk 1): This might indicate a low risk of CIS recurrence. It's still a positive outcome, but the risk is slightly higher than Ris0.\n",
    "\n",
    "Values: 'CIS Absent', 'Ris0', 'Ris1'"
   ]
  },
  {
   "cell_type": "code",
   "execution_count": 29,
   "metadata": {},
   "outputs": [
    {
     "data": {
      "text/plain": [
       "resection_status_carcinoma_in_situ\n",
       "CIS Absent    471\n",
       "Ris0          279\n",
       "Ris1           13\n",
       "Name: count, dtype: int64"
      ]
     },
     "execution_count": 29,
     "metadata": {},
     "output_type": "execute_result"
    }
   ],
   "source": [
    "resection_status_in_situ = patho['resection_status_carcinoma_in_situ'].value_counts()\n",
    "resection_status_in_situ"
   ]
  },
  {
   "cell_type": "code",
   "execution_count": 30,
   "metadata": {},
   "outputs": [
    {
     "data": {
      "image/png": "[encoded data removed]",
      "text/plain": [
       "<Figure size 80x80 with 1 Axes>"
      ]
     },
     "metadata": {},
     "output_type": "display_data"
    }
   ],
   "source": [
    "plt.figure(figsize=(0.8, 0.8))\n",
    "color = sns.color_palette(\"Set2\")[2]\n",
    "ax = plt.barh(resection_status_in_situ.index, resection_status_in_situ.values, color=color)\n",
    "plt.bar_label(ax, padding=2, fontsize=6)\n",
    "sns.despine()\n",
    "plt.xlabel(\"# Patients\", fontsize=6)\n",
    "plt.title(\"Resection Status Carcinoma in situ\", fontsize=6)\n",
    "plt.show()"
   ]
  },
  {
   "cell_type": "markdown",
   "metadata": {},
   "source": [
    "### Carcinoma in situ\n",
    "Data type: Object  \n",
    "\n",
    "Meaning: This refers to a condition where abnormal cells are present within the tissue layer they originated from (in situ means \"in place\"). These cells have the potential to become invasive cancer but haven't yet breached the basement membrane (a barrier separating tissues).\n",
    "\n",
    "Values: 'no', 'yes'"
   ]
  },
  {
   "cell_type": "code",
   "execution_count": 31,
   "metadata": {},
   "outputs": [],
   "source": [
    "carcinoma_in_situ = patho['carcinoma_in_situ'].value_counts()"
   ]
  },
  {
   "cell_type": "code",
   "execution_count": 32,
   "metadata": {},
   "outputs": [
    {
     "data": {
      "image/png": "[encoded data removed]",
      "text/plain": [
       "<Figure size 80x80 with 1 Axes>"
      ]
     },
     "metadata": {},
     "output_type": "display_data"
    }
   ],
   "source": [
    "plt.figure(figsize=(0.8, 0.8))\n",
    "color = sns.color_palette(\"Set2\")[2]\n",
    "ax = plt.barh(carcinoma_in_situ.index, carcinoma_in_situ.values, color=color)\n",
    "plt.bar_label(ax, padding=2, fontsize=6)\n",
    "sns.despine()\n",
    "plt.xlabel(\"# Patients\", fontsize=6)\n",
    "plt.ylabel(\"Carcinoma in situ\", fontsize=6)\n",
    "plt.show()"
   ]
  },
  {
   "cell_type": "markdown",
   "metadata": {},
   "source": [
    "### Tumor resection margin\n",
    "Data type: Object\n",
    "\n",
    "Meaning: A resection margin or surgical margin is the margin of apparently non-tumorous tissue around a tumor that has been surgically removed, called \"resected\", in surgical oncology. The resection is an attempt to remove a cancer tumor so that no portion of the malignant growth extends past the edges or margin of the removed tumor and surrounding tissue. These are retained after the surgery and examined microscopically by a pathologist to see if the margin is indeed free from tumor cells (called \"negative\"). If cancerous cells are found at the edges (called \"positive\") the operation is much less likely to achieve the desired results. [Wiki](https://en.wikipedia.org/wiki/Resection_margin)\n",
    "\n",
    "Values: '<0.1', None, '0.5', '0.3', '0.2', '0', '0.1', '1.1', '0.4', '1.2',\n",
    "       '0.6', '0.7', '0.8', '1.3', '1' "
   ]
  },
  {
   "cell_type": "code",
   "execution_count": 33,
   "metadata": {},
   "outputs": [],
   "source": [
    "margin_r = patho[[\"closest_resection_margin_in_cm\"]].copy()"
   ]
  },
  {
   "cell_type": "code",
   "execution_count": 34,
   "metadata": {},
   "outputs": [],
   "source": [
    "margin_r[\"grouped\"] = margin_r.closest_resection_margin_in_cm.replace({\n",
    "    \"<0.1\": \"]0, 0.1[\",\n",
    "    \"0.1\": \"[0.1, 0.4]\", \"0.2\": \"[0.1, 0.4]\", \"0.3\": \"[0.1, 0.4]\", \"0.4\": \"[0.1, 0.4]\",\n",
    "    \"0.5\": \"> 0.4\", \"0.6\": \"> 0.4\", \"0.7\": \"> 0.4\", \"0.8\": \"> 0.4\", \"0.9\": \"> 0.4\", \"1\": \"> 0.4\", \"1.1\": \"> 0.4\", \"1.2\": \"> 0.4\", \"1.3\": \"> 0.4\", \n",
    "})\n",
    "margin_grouped = margin_r.grouped.value_counts()"
   ]
  },
  {
   "cell_type": "code",
   "execution_count": 35,
   "metadata": {},
   "outputs": [
    {
     "data": {
      "image/png": "[encoded data removed]",
      "text/plain": [
       "<Figure size 80x80 with 1 Axes>"
      ]
     },
     "metadata": {},
     "output_type": "display_data"
    }
   ],
   "source": [
    "plt.figure(figsize=(0.8, 0.8))\n",
    "color = sns.color_palette(\"Set2\")[2]\n",
    "ax = plt.barh(margin_grouped.index, margin_grouped.values, color=color)\n",
    "plt.bar_label(ax, padding=2, fontsize=6)\n",
    "plt.xlim([0,250])\n",
    "sns.despine()\n",
    "plt.xlabel(\"# Patients\", fontsize=6)\n",
    "plt.ylabel(\"Margin [cm]\", fontsize=6)\n",
    "plt.show()"
   ]
  },
  {
   "cell_type": "markdown",
   "metadata": {},
   "source": [
    "### Histological Type\n",
    "Data type: Object\n",
    "\n",
    "Meaning: \n",
    "Squamous Cell Carcinoma (SCC):  These are the most common types in the list (all starting with \"SCC_\").  They arise from squamous cells, which are flat, scale-like cells found on the surface of the skin and other organs.  Within SCC, there are various subtypes based on specific characteristics.\n",
    "- SCC_Basaloid: This type of SCC has cells that resemble basal cells, which are the deeper cells in the squamous epithelium.\n",
    "- SCC_Conventional-Keratinizing: This is a common type of SCC where the tumor cells produce keratin, a protein that gives skin its tough, protective layer.\n",
    "- SCC_Conventional-NonKeratinizing: This type of SCC does not produce significant amounts of keratin.\n",
    "- SCC_Sarcomatoid: This is a rare and aggressive type of SCC where the tumor cells show features of both epithelial (squamous) and mesenchymal (connective) tissues.\n",
    "- Neuroendocrine Carcinoma: This is a type of cancer arising from cells that have features of both nerve cells and hormone-producing cells.\n",
    "- SCC_Acantholytic: This type of SCC shows a loss of cell adhesion, where the tumor cells detach from each other easily.\n",
    "- SCC_Lymphoepithelial Carcinoma: This is a rare type of SCC with features of both squamous epithelium and lymphoid tissue (immune system cells).\n",
    "- Mucoepidermoid Carcinoma: This is a type of malignant tumor that can arise in various glands throughout the body. It can produce mucus and other secretions\n",
    "- None: This indicates the histological type is missing from the data.\n",
    "\n",
    "Values: 'SCC_Basaloid', 'SCC_Conventional-Keratinizing',\n",
    "       'SCC_Conventional-NonKeratinizing', None, 'SCC_Sarcomatoid',\n",
    "       'Neuroendocrine_Carcinoma', 'SCC_Acantholytic',\n",
    "       'SCC_Lymphoepithelial', 'Mucoepidermoid_Carcinoma'"
   ]
  },
  {
   "cell_type": "code",
   "execution_count": 36,
   "metadata": {},
   "outputs": [],
   "source": [
    "histo_type = patho['histologic_type'].value_counts()"
   ]
  },
  {
   "cell_type": "code",
   "execution_count": 37,
   "metadata": {},
   "outputs": [
    {
     "data": {
      "image/png": "[encoded data removed]",
      "text/plain": [
       "<Figure size 80x180 with 1 Axes>"
      ]
     },
     "metadata": {},
     "output_type": "display_data"
    }
   ],
   "source": [
    "plt.figure(figsize=(0.8, 1.8))\n",
    "color = sns.color_palette(\"Set2\")[2]\n",
    "ax = plt.barh(histo_type.index, histo_type.values, color=color)\n",
    "plt.bar_label(ax, padding=2, fontsize=6)\n",
    "sns.despine()\n",
    "plt.xlabel(\"# Patients\", fontsize=6)\n",
    "plt.ylabel(\"Histological Type\", fontsize=6)\n",
    "plt.show()"
   ]
  },
  {
   "cell_type": "markdown",
   "metadata": {},
   "source": [
    "### Tumor Infiltration Depth\n",
    "Data type: Float64\n",
    "\n",
    "Meaning: Tumor infiltration depth (TID) focuses more on the location of the tumor within an organ and how deeply it has invaded surrounding tissues, rather than the overall size of the tumor itself. Here's why:\n",
    "- Focus on Spread: TID emphasizes the extent of cancer spread by measuring how far the tumor cells have penetrated into deeper structures.\n",
    "- Organ-Specific: The reference point for TID measurement is often based on the specific anatomy of the organ where the tumor originates. For instance, in skin cancer, the starting point is the skin surface, while in some gastrointestinal cancers, it might be the muscularis mucosa (a deeper layer).\n",
    "- Not a Direct Size Measure: While a larger tumor might generally have a greater infiltration depth, TID doesn't directly correlate to the overall tumor size or thickness. A smaller tumor can have a deeper infiltration if it grows aggressively into surrounding tissues.\n",
    "\n",
    "Values: 0.  ,  0.5 ,  1.  ,  1.5 ,  2.  ,  2.5 ,  2.8 ,  3.  ,  3.5 ,\n",
    "        3.95,  4.  ,  4.5 ,  5.  ,  5.5 ,  6.  ,  7.  ,  8.  ,  9.  ,\n",
    "       10.  , 11.  , 12.  , 13.  , 14.  , 15.  , 16.  , 17.  , 18.  ,\n",
    "       19.  , 20.  , 21.  , 22.  , 23.  , 24.  , 25.  , 27.  , 28.  ,\n",
    "       30.  , 35.  , 38.  , 40.  , 42.  , 45.  , 50.  , 53.  ,   nan"
   ]
  },
  {
   "cell_type": "code",
   "execution_count": 38,
   "metadata": {},
   "outputs": [],
   "source": [
    "infiltration_depth = patho['infiltration_depth_in_mm']\n",
    "bins_age = np.arange(infiltration_depth.min(), infiltration_depth.max()+1, 3)"
   ]
  },
  {
   "cell_type": "code",
   "execution_count": 39,
   "metadata": {},
   "outputs": [
    {
     "data": {
      "image/png": "[encoded data removed]",
      "text/plain": [
       "<Figure size 130x80 with 1 Axes>"
      ]
     },
     "metadata": {},
     "output_type": "display_data"
    }
   ],
   "source": [
    "plt.figure(figsize=(1.3,0.8))\n",
    "plt.hist(infiltration_depth, bins=bins_age, edgecolor=\"white\", color=sns.color_palette(\"Set2\")[2], linewidth=0.5)\n",
    "plt.yticks([0,50,100,150])\n",
    "sns.despine()\n",
    "plt.xlabel(\"Infiltration depth [mm]\", fontsize=6)\n",
    "plt.ylabel(\"# Patients\", fontsize=6)\n",
    "plt.show()"
   ]
  },
  {
   "cell_type": "markdown",
   "metadata": {},
   "source": [
    "## Clinical Data"
   ]
  },
  {
   "cell_type": "code",
   "execution_count": 40,
   "metadata": {},
   "outputs": [
    {
     "data": {
      "text/plain": [
       "Index(['patient_id', 'year_of_initial_diagnosis', 'age_at_initial_diagnosis',\n",
       "       'sex', 'smoking_status', 'primarily_metastasis', 'survival_status',\n",
       "       'survival_status_with_cause', 'days_to_last_information',\n",
       "       'first_treatment_intent', 'first_treatment_modality',\n",
       "       'days_to_first_treatment', 'adjuvant_treatment_intent',\n",
       "       'adjuvant_radiotherapy', 'adjuvant_radiotherapy_modality',\n",
       "       'adjuvant_systemic_therapy', 'adjuvant_systemic_therapy_modality',\n",
       "       'adjuvant_radiochemotherapy', 'recurrence', 'days_to_recurrence',\n",
       "       'progress_1', 'days_to_progress_1', 'progress_2', 'days_to_progress_2',\n",
       "       'metastasis_1_locations', 'days_to_metastasis_1',\n",
       "       'metastasis_2_locations', 'days_to_metastasis_2',\n",
       "       'metastasis_3_locations', 'days_to_metastasis_3',\n",
       "       'metastasis_4_locations', 'days_to_metastasis_4'],\n",
       "      dtype='object')"
      ]
     },
     "execution_count": 40,
     "metadata": {},
     "output_type": "execute_result"
    }
   ],
   "source": [
    "clinical.columns"
   ]
  },
  {
   "cell_type": "markdown",
   "metadata": {},
   "source": [
    "### Years of Initial Diagnosis\n",
    "Data type: int64\n",
    "\n",
    "Meaning: Year in which the patient got initial diagnosed with cancer.\n",
    "\n",
    "Values: 2005, 2006, 2007, 2008, 2009, 2010, 2011, 2012, 2013, 2014, 2015,\n",
    "       2016, 2017, 2018, 2019"
   ]
  },
  {
   "cell_type": "code",
   "execution_count": 41,
   "metadata": {},
   "outputs": [],
   "source": [
    "years_initial_diagnosis = clinical['year_of_initial_diagnosis']\n",
    "bins_years = np.arange(years_initial_diagnosis.min(), years_initial_diagnosis.max() + 1, 2)"
   ]
  },
  {
   "cell_type": "code",
   "execution_count": 42,
   "metadata": {},
   "outputs": [
    {
     "data": {
      "image/png": "[encoded data removed]",
      "text/plain": [
       "<Figure size 130x80 with 1 Axes>"
      ]
     },
     "metadata": {},
     "output_type": "display_data"
    }
   ],
   "source": [
    "plt.figure(figsize=(1.3,0.8))\n",
    "plt.hist(years_initial_diagnosis, bins=bins_years, edgecolor=\"white\", color=sns.color_palette(\"Set2\")[2], linewidth=0.5)\n",
    "sns.despine()\n",
    "plt.xlabel(\"Year of initial diagnosis\", fontsize=6)\n",
    "plt.ylabel(\"# Patients\", fontsize=6)\n",
    "plt.show()"
   ]
  },
  {
   "cell_type": "markdown",
   "metadata": {},
   "source": [
    "### Age at Initial Diagnosis\n",
    "Data type: Int64\n",
    "\n",
    "Meaning: Age of the patient when the initial get diagnosed with cancer. \n",
    "\n",
    "Values: 22 26 30 34 36 37 38 39 40 41 42 43 44 45 46 47 48 49 50 51 52 53 54 55\n",
    " 56 57 58 59 60 61 62 63 64 65 66 67 68 69 70 71 72 73 74 75 76 77 78 79\n",
    " 80 81 82 83 84 85 88 90 92"
   ]
  },
  {
   "cell_type": "code",
   "execution_count": 43,
   "metadata": {},
   "outputs": [],
   "source": [
    "age = clinical[\"age_at_initial_diagnosis\"]\n",
    "bins_age = np.arange(clinical[\"age_at_initial_diagnosis\"].min(), \n",
    "                     clinical[\"age_at_initial_diagnosis\"].max() + 1, 5)"
   ]
  },
  {
   "cell_type": "code",
   "execution_count": 44,
   "metadata": {},
   "outputs": [
    {
     "data": {
      "image/png": "[encoded data removed]",
      "text/plain": [
       "<Figure size 130x80 with 1 Axes>"
      ]
     },
     "metadata": {},
     "output_type": "display_data"
    }
   ],
   "source": [
    "plt.figure(figsize=(1.3,0.8))\n",
    "plt.hist(age, bins=bins_age, edgecolor=\"white\", color=sns.color_palette(\"Set2\")[2])\n",
    "sns.despine()\n",
    "plt.ylim([0,150])\n",
    "plt.xlabel(\"Age at diagnosis\", fontsize=6)\n",
    "plt.ylabel(\"# Patients\", fontsize=6)\n",
    "plt.plot(age.min(), 15, \"v\", color=\"darkgray\", markersize=3)\n",
    "plt.plot(age.max(), 15, \"v\", color=\"darkgray\", markersize=3)\n",
    "plt.text(s=f\"min:\\n{age.min()}\", x=20, y=30, color=\"darkgray\")\n",
    "plt.text(s=f\"max:\\n{age.max()}\", x=90, y=30, color=\"darkgray\")\n",
    "plt.show()"
   ]
  }
 ],
 "metadata": {
  "kernelspec": {
   "display_name": "hancock_start",
   "language": "python",
   "name": "python3"
  },
  "language_info": {
   "codemirror_mode": {
    "name": "ipython",
    "version": 3
   },
   "file_extension": ".py",
   "mimetype": "text/x-python",
   "name": "python",
   "nbconvert_exporter": "python",
   "pygments_lexer": "ipython3",
   "version": "3.12.3"
  }
 },
 "nbformat": 4,
 "nbformat_minor": 2
}
