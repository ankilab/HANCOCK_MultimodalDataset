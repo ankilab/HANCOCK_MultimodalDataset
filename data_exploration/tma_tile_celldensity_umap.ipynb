{
 "cells": [
  {
   "cell_type": "code",
   "id": "cec8a85c",
   "metadata": {
    "ExecuteTime": {
     "end_time": "2025-04-23T10:14:19.847177Z",
     "start_time": "2025-04-23T10:14:14.754288Z"
    }
   },
   "source": [
    "import warnings\n",
    "warnings.filterwarnings('ignore')\n",
    "import pandas as pd\n",
    "import numpy as np\n",
    "import os\n",
    "from umap import UMAP\n",
    "import seaborn as sns\n",
    "import matplotlib.pyplot as plt\n",
    "from matplotlib import rcParams\n",
    "rcParams.update({\"font.size\": 6})\n",
    "rcParams[\"svg.fonttype\"] = \"none\""
   ],
   "outputs": [],
   "execution_count": 1
  },
  {
   "cell_type": "code",
   "id": "9e6f83cf",
   "metadata": {
    "ExecuteTime": {
     "end_time": "2025-04-23T10:14:19.865925Z",
     "start_time": "2025-04-23T10:14:19.855007Z"
    }
   },
   "source": [
    "# Load densities of CD3- and CD8-positive cells\n",
    "rootdir = \"../features/\"\n",
    "tma_cell_counts = pd.read_csv(rootdir + \"tma_cell_density.csv\")\n",
    "tma_cell_counts"
   ],
   "outputs": [
    {
     "data": {
      "text/plain": [
       "     patient_id     cd3_z   cd3_inv     cd8_z   cd8_inv\n",
       "0             1  1909.950  1027.860  5470.500  4674.550\n",
       "1             2   688.920   399.360   570.210   411.505\n",
       "2             3  3781.000  2687.500  1556.400   461.490\n",
       "3             4   294.595   795.895   119.855   482.065\n",
       "4             5   139.020   502.195    55.575   144.050\n",
       "..          ...       ...       ...       ...       ...\n",
       "731         759       NaN  2214.100       NaN       NaN\n",
       "732         760  1349.550   529.075  1119.020   890.935\n",
       "733         761       NaN  1014.110   723.345  1199.950\n",
       "734         762  3809.550   890.180  4445.900  2964.750\n",
       "735         763   383.290   537.465   103.660   282.095\n",
       "\n",
       "[736 rows x 5 columns]"
      ],
      "text/html": [
       "<div>\n",
       "<style scoped>\n",
       "    .dataframe tbody tr th:only-of-type {\n",
       "        vertical-align: middle;\n",
       "    }\n",
       "\n",
       "    .dataframe tbody tr th {\n",
       "        vertical-align: top;\n",
       "    }\n",
       "\n",
       "    .dataframe thead th {\n",
       "        text-align: right;\n",
       "    }\n",
       "</style>\n",
       "<table border=\"1\" class=\"dataframe\">\n",
       "  <thead>\n",
       "    <tr style=\"text-align: right;\">\n",
       "      <th></th>\n",
       "      <th>patient_id</th>\n",
       "      <th>cd3_z</th>\n",
       "      <th>cd3_inv</th>\n",
       "      <th>cd8_z</th>\n",
       "      <th>cd8_inv</th>\n",
       "    </tr>\n",
       "  </thead>\n",
       "  <tbody>\n",
       "    <tr>\n",
       "      <th>0</th>\n",
       "      <td>1</td>\n",
       "      <td>1909.950</td>\n",
       "      <td>1027.860</td>\n",
       "      <td>5470.500</td>\n",
       "      <td>4674.550</td>\n",
       "    </tr>\n",
       "    <tr>\n",
       "      <th>1</th>\n",
       "      <td>2</td>\n",
       "      <td>688.920</td>\n",
       "      <td>399.360</td>\n",
       "      <td>570.210</td>\n",
       "      <td>411.505</td>\n",
       "    </tr>\n",
       "    <tr>\n",
       "      <th>2</th>\n",
       "      <td>3</td>\n",
       "      <td>3781.000</td>\n",
       "      <td>2687.500</td>\n",
       "      <td>1556.400</td>\n",
       "      <td>461.490</td>\n",
       "    </tr>\n",
       "    <tr>\n",
       "      <th>3</th>\n",
       "      <td>4</td>\n",
       "      <td>294.595</td>\n",
       "      <td>795.895</td>\n",
       "      <td>119.855</td>\n",
       "      <td>482.065</td>\n",
       "    </tr>\n",
       "    <tr>\n",
       "      <th>4</th>\n",
       "      <td>5</td>\n",
       "      <td>139.020</td>\n",
       "      <td>502.195</td>\n",
       "      <td>55.575</td>\n",
       "      <td>144.050</td>\n",
       "    </tr>\n",
       "    <tr>\n",
       "      <th>...</th>\n",
       "      <td>...</td>\n",
       "      <td>...</td>\n",
       "      <td>...</td>\n",
       "      <td>...</td>\n",
       "      <td>...</td>\n",
       "    </tr>\n",
       "    <tr>\n",
       "      <th>731</th>\n",
       "      <td>759</td>\n",
       "      <td>NaN</td>\n",
       "      <td>2214.100</td>\n",
       "      <td>NaN</td>\n",
       "      <td>NaN</td>\n",
       "    </tr>\n",
       "    <tr>\n",
       "      <th>732</th>\n",
       "      <td>760</td>\n",
       "      <td>1349.550</td>\n",
       "      <td>529.075</td>\n",
       "      <td>1119.020</td>\n",
       "      <td>890.935</td>\n",
       "    </tr>\n",
       "    <tr>\n",
       "      <th>733</th>\n",
       "      <td>761</td>\n",
       "      <td>NaN</td>\n",
       "      <td>1014.110</td>\n",
       "      <td>723.345</td>\n",
       "      <td>1199.950</td>\n",
       "    </tr>\n",
       "    <tr>\n",
       "      <th>734</th>\n",
       "      <td>762</td>\n",
       "      <td>3809.550</td>\n",
       "      <td>890.180</td>\n",
       "      <td>4445.900</td>\n",
       "      <td>2964.750</td>\n",
       "    </tr>\n",
       "    <tr>\n",
       "      <th>735</th>\n",
       "      <td>763</td>\n",
       "      <td>383.290</td>\n",
       "      <td>537.465</td>\n",
       "      <td>103.660</td>\n",
       "      <td>282.095</td>\n",
       "    </tr>\n",
       "  </tbody>\n",
       "</table>\n",
       "<p>736 rows × 5 columns</p>\n",
       "</div>"
      ]
     },
     "execution_count": 2,
     "metadata": {},
     "output_type": "execute_result"
    }
   ],
   "execution_count": 2
  },
  {
   "metadata": {
    "ExecuteTime": {
     "end_time": "2025-04-23T10:14:19.962499Z",
     "start_time": "2025-04-23T10:14:19.959626Z"
    }
   },
   "cell_type": "code",
   "source": [
    "plt.style.use('default')\n",
    "sns.set_style('ticks')\n",
    "rcParams.update({\"font.size\": 6})\n",
    "rcParams[\"svg.fonttype\"] = \"none\"\n",
    "plt.rcParams[\"legend.markerscale\"] = 3\n"
   ],
   "id": "59a810d2051d1402",
   "outputs": [],
   "execution_count": 3
  },
  {
   "cell_type": "code",
   "id": "20449b44",
   "metadata": {
    "ExecuteTime": {
     "end_time": "2025-04-23T10:14:20.154396Z",
     "start_time": "2025-04-23T10:14:19.989083Z"
    }
   },
   "source": [
    "# Load image features (representations of TMAs stained with CD3 and CD8)\n",
    "markers = [\"CD3\", \"CD8\"]\n",
    "tma_list = []\n",
    "\n",
    "for marker in markers:\n",
    "    file = os.path.join(rootdir, f\"tma_tile_dtr_256_{marker}.npz\")\n",
    "    npz_data = np.load(file, allow_pickle=True)\n",
    "    patient_ids = npz_data.keys()\n",
    "\n",
    "    data = []\n",
    "    for pid in patient_ids:\n",
    "        data.append(npz_data[pid])\n",
    "\n",
    "    tma_list.append(pd.DataFrame({\"patient_id\": patient_ids, marker: data}))"
   ],
   "outputs": [],
   "execution_count": 4
  },
  {
   "cell_type": "code",
   "id": "99d65be8",
   "metadata": {
    "ExecuteTime": {
     "end_time": "2025-04-23T10:14:20.293623Z",
     "start_time": "2025-04-23T10:14:20.176254Z"
    }
   },
   "source": [
    "tma = tma_list[0]\n",
    "for temp in tma_list[1:]:\n",
    "    tma = pd.merge(tma, temp, on=\"patient_id\", how=\"outer\")\n",
    "tma = tma.fillna(0)\n",
    "\n",
    "def expand_vector(row, column_name):\n",
    "    return pd.Series(row[column_name])\n",
    "\n",
    "# Expand vectors to columns\n",
    "tma_expanded = pd.DataFrame()\n",
    "for marker in markers:\n",
    "    # workaround: replace scalar 0 wih array of zeros\n",
    "    tma[marker] = tma.apply(lambda row: np.zeros(512) if np.all(np.asarray(row[marker]) == 0) or np.asarray(row[marker]).ndim != 1 else row[marker], axis=1)\n",
    "    # Split arrays into df columns\n",
    "    expanded_cols = tma.apply(lambda row, col=marker: expand_vector(row, col), axis=1)\n",
    "    column_names = [marker] * 2 * 256\n",
    "    column_names = [f\"{x}_{i}\" for x, i in enumerate(column_names)]\n",
    "    expanded_cols.columns = column_names\n",
    "    tma_expanded = pd.concat([tma_expanded, expanded_cols], axis=1)\n",
    "\n",
    "tma_expanded[\"patient_id\"] = tma[\"patient_id\"].astype(int)\n",
    "tma_expanded = tma_expanded.sort_values(by=\"patient_id\")\n",
    "id_list = tma_expanded.patient_id.tolist()\n",
    "tma_expanded = tma_expanded.drop(\"patient_id\", axis=1)"
   ],
   "outputs": [],
   "execution_count": 5
  },
  {
   "cell_type": "code",
   "id": "2d05c202",
   "metadata": {
    "ExecuteTime": {
     "end_time": "2025-04-23T10:14:20.302130Z",
     "start_time": "2025-04-23T10:14:20.298624Z"
    }
   },
   "source": [
    "def scatter_plot(x, y, c, save=None):\n",
    "    plt.figure(figsize=(2.2, 1.8))\n",
    "    plt.scatter(x, y, c=c, cmap=\"plasma\", edgecolors=\"white\", linewidths=0.3, s=8)\n",
    "    plt.colorbar()\n",
    "    plt.xlabel(\"UMAP 1\", fontsize=6)\n",
    "    plt.ylabel(\"UMAP 2\", fontsize=6)\n",
    "    sns.despine()\n",
    "    if save is not None:\n",
    "        plt.savefig(save, bbox_inches=\"tight\")\n",
    "    plt.show()"
   ],
   "outputs": [],
   "execution_count": 6
  },
  {
   "cell_type": "markdown",
   "id": "3aa06c06",
   "metadata": {},
   "source": [
    "### Visualize features of CD8-stained TMAs from the tumor center using UMAP"
   ]
  },
  {
   "cell_type": "code",
   "id": "6379492a",
   "metadata": {
    "ExecuteTime": {
     "end_time": "2025-04-23T10:14:20.354510Z",
     "start_time": "2025-04-23T10:14:20.350969Z"
    }
   },
   "source": [
    "cd3_cols = [col for col in tma_expanded.columns if \"CD3\" in col]\n",
    "tma_cd3 = tma_expanded[cd3_cols]"
   ],
   "outputs": [],
   "execution_count": 7
  },
  {
   "cell_type": "code",
   "id": "f3408b4b",
   "metadata": {
    "ExecuteTime": {
     "end_time": "2025-04-23T10:14:31.097294Z",
     "start_time": "2025-04-23T10:14:20.405657Z"
    }
   },
   "source": [
    "umap = UMAP(random_state=42, min_dist=0.1, n_neighbors=15).fit_transform(tma_cd3)\n",
    "# Normalize axes\n",
    "tx, ty = umap[:, 0], umap[:, 1]\n",
    "tx = (tx - np.min(tx)) / (np.max(tx) - np.min(tx))\n",
    "ty = (ty - np.min(ty)) / (np.max(ty) - np.min(ty))\n",
    "df_cd3 = pd.DataFrame()\n",
    "df_cd3[\"UMAP 1\"] = tx\n",
    "df_cd3[\"UMAP 2\"] = ty\n",
    "df_cd3[\"patient_id\"] = id_list\n",
    "df_cd3 = df_cd3.merge(tma_cell_counts, on=\"patient_id\", how=\"inner\")\n",
    "df_cd3"
   ],
   "outputs": [
    {
     "data": {
      "text/plain": [
       "       UMAP 1    UMAP 2  patient_id     cd3_z   cd3_inv     cd8_z   cd8_inv\n",
       "0    0.423677  0.421794           1  1909.950  1027.860  5470.500  4674.550\n",
       "1    0.449901  0.200327           2   688.920   399.360   570.210   411.505\n",
       "2    0.434987  0.455996           3  3781.000  2687.500  1556.400   461.490\n",
       "3    0.536239  0.129121           4   294.595   795.895   119.855   482.065\n",
       "4    0.514590  0.132051           5   139.020   502.195    55.575   144.050\n",
       "..        ...       ...         ...       ...       ...       ...       ...\n",
       "728  0.962496  0.495553         759       NaN  2214.100       NaN       NaN\n",
       "729  0.524812  0.378097         760  1349.550   529.075  1119.020   890.935\n",
       "730  0.622189  0.350537         761       NaN  1014.110   723.345  1199.950\n",
       "731  0.444226  0.483465         762  3809.550   890.180  4445.900  2964.750\n",
       "732  0.542718  0.327324         763   383.290   537.465   103.660   282.095\n",
       "\n",
       "[733 rows x 7 columns]"
      ],
      "text/html": [
       "<div>\n",
       "<style scoped>\n",
       "    .dataframe tbody tr th:only-of-type {\n",
       "        vertical-align: middle;\n",
       "    }\n",
       "\n",
       "    .dataframe tbody tr th {\n",
       "        vertical-align: top;\n",
       "    }\n",
       "\n",
       "    .dataframe thead th {\n",
       "        text-align: right;\n",
       "    }\n",
       "</style>\n",
       "<table border=\"1\" class=\"dataframe\">\n",
       "  <thead>\n",
       "    <tr style=\"text-align: right;\">\n",
       "      <th></th>\n",
       "      <th>UMAP 1</th>\n",
       "      <th>UMAP 2</th>\n",
       "      <th>patient_id</th>\n",
       "      <th>cd3_z</th>\n",
       "      <th>cd3_inv</th>\n",
       "      <th>cd8_z</th>\n",
       "      <th>cd8_inv</th>\n",
       "    </tr>\n",
       "  </thead>\n",
       "  <tbody>\n",
       "    <tr>\n",
       "      <th>0</th>\n",
       "      <td>0.423677</td>\n",
       "      <td>0.421794</td>\n",
       "      <td>1</td>\n",
       "      <td>1909.950</td>\n",
       "      <td>1027.860</td>\n",
       "      <td>5470.500</td>\n",
       "      <td>4674.550</td>\n",
       "    </tr>\n",
       "    <tr>\n",
       "      <th>1</th>\n",
       "      <td>0.449901</td>\n",
       "      <td>0.200327</td>\n",
       "      <td>2</td>\n",
       "      <td>688.920</td>\n",
       "      <td>399.360</td>\n",
       "      <td>570.210</td>\n",
       "      <td>411.505</td>\n",
       "    </tr>\n",
       "    <tr>\n",
       "      <th>2</th>\n",
       "      <td>0.434987</td>\n",
       "      <td>0.455996</td>\n",
       "      <td>3</td>\n",
       "      <td>3781.000</td>\n",
       "      <td>2687.500</td>\n",
       "      <td>1556.400</td>\n",
       "      <td>461.490</td>\n",
       "    </tr>\n",
       "    <tr>\n",
       "      <th>3</th>\n",
       "      <td>0.536239</td>\n",
       "      <td>0.129121</td>\n",
       "      <td>4</td>\n",
       "      <td>294.595</td>\n",
       "      <td>795.895</td>\n",
       "      <td>119.855</td>\n",
       "      <td>482.065</td>\n",
       "    </tr>\n",
       "    <tr>\n",
       "      <th>4</th>\n",
       "      <td>0.514590</td>\n",
       "      <td>0.132051</td>\n",
       "      <td>5</td>\n",
       "      <td>139.020</td>\n",
       "      <td>502.195</td>\n",
       "      <td>55.575</td>\n",
       "      <td>144.050</td>\n",
       "    </tr>\n",
       "    <tr>\n",
       "      <th>...</th>\n",
       "      <td>...</td>\n",
       "      <td>...</td>\n",
       "      <td>...</td>\n",
       "      <td>...</td>\n",
       "      <td>...</td>\n",
       "      <td>...</td>\n",
       "      <td>...</td>\n",
       "    </tr>\n",
       "    <tr>\n",
       "      <th>728</th>\n",
       "      <td>0.962496</td>\n",
       "      <td>0.495553</td>\n",
       "      <td>759</td>\n",
       "      <td>NaN</td>\n",
       "      <td>2214.100</td>\n",
       "      <td>NaN</td>\n",
       "      <td>NaN</td>\n",
       "    </tr>\n",
       "    <tr>\n",
       "      <th>729</th>\n",
       "      <td>0.524812</td>\n",
       "      <td>0.378097</td>\n",
       "      <td>760</td>\n",
       "      <td>1349.550</td>\n",
       "      <td>529.075</td>\n",
       "      <td>1119.020</td>\n",
       "      <td>890.935</td>\n",
       "    </tr>\n",
       "    <tr>\n",
       "      <th>730</th>\n",
       "      <td>0.622189</td>\n",
       "      <td>0.350537</td>\n",
       "      <td>761</td>\n",
       "      <td>NaN</td>\n",
       "      <td>1014.110</td>\n",
       "      <td>723.345</td>\n",
       "      <td>1199.950</td>\n",
       "    </tr>\n",
       "    <tr>\n",
       "      <th>731</th>\n",
       "      <td>0.444226</td>\n",
       "      <td>0.483465</td>\n",
       "      <td>762</td>\n",
       "      <td>3809.550</td>\n",
       "      <td>890.180</td>\n",
       "      <td>4445.900</td>\n",
       "      <td>2964.750</td>\n",
       "    </tr>\n",
       "    <tr>\n",
       "      <th>732</th>\n",
       "      <td>0.542718</td>\n",
       "      <td>0.327324</td>\n",
       "      <td>763</td>\n",
       "      <td>383.290</td>\n",
       "      <td>537.465</td>\n",
       "      <td>103.660</td>\n",
       "      <td>282.095</td>\n",
       "    </tr>\n",
       "  </tbody>\n",
       "</table>\n",
       "<p>733 rows × 7 columns</p>\n",
       "</div>"
      ]
     },
     "execution_count": 8,
     "metadata": {},
     "output_type": "execute_result"
    }
   ],
   "execution_count": 8
  },
  {
   "cell_type": "code",
   "id": "1ae2288c",
   "metadata": {
    "ExecuteTime": {
     "end_time": "2025-04-23T10:14:31.477599Z",
     "start_time": "2025-04-23T10:14:31.302199Z"
    }
   },
   "source": [
    "# Plot UMAP, colored according to density of CD3-positive cells in the tumor center (cd3_z)\n",
    "scatter_plot(df_cd3[\"UMAP 1\"], df_cd3[\"UMAP 2\"], df_cd3[\"cd3_z\"], \"../results/umap_CD3imagefeatures_CD3density.svg\")"
   ],
   "outputs": [
    {
     "data": {
      "text/plain": [
       "<Figure size 220x180 with 2 Axes>"
      ],
      "image/png": "[encoded data removed]"
     },
     "metadata": {},
     "output_type": "display_data"
    }
   ],
   "execution_count": 9
  },
  {
   "cell_type": "markdown",
   "id": "1420783a",
   "metadata": {},
   "source": [
    "### Visualize features of CD8-stained TMAs from the tumor center using UMAP"
   ]
  },
  {
   "cell_type": "code",
   "id": "75b9b684",
   "metadata": {
    "ExecuteTime": {
     "end_time": "2025-04-23T10:14:31.500768Z",
     "start_time": "2025-04-23T10:14:31.497904Z"
    }
   },
   "source": [
    "cd8_cols = [col for col in tma_expanded.columns if \"CD8\" in col]\n",
    "tma_cd8 = tma_expanded[cd8_cols]"
   ],
   "outputs": [],
   "execution_count": 10
  },
  {
   "cell_type": "code",
   "id": "a822034b",
   "metadata": {
    "ExecuteTime": {
     "end_time": "2025-04-23T10:14:32.757446Z",
     "start_time": "2025-04-23T10:14:31.543788Z"
    }
   },
   "source": [
    "umap = UMAP(random_state=42, min_dist=0.1, n_neighbors=15).fit_transform(tma_cd8)\n",
    "# Normalize axes\n",
    "tx, ty = umap[:, 0], umap[:, 1]\n",
    "tx = (tx - np.min(tx)) / (np.max(tx) - np.min(tx))\n",
    "ty = (ty - np.min(ty)) / (np.max(ty) - np.min(ty))\n",
    "df_cd8 = pd.DataFrame()\n",
    "df_cd8[\"UMAP 1\"] = tx\n",
    "df_cd8[\"UMAP 2\"] = ty\n",
    "df_cd8[\"patient_id\"] = id_list\n",
    "df_cd8 = df_cd8.merge(tma_cell_counts, on=\"patient_id\", how=\"inner\")\n",
    "df_cd8"
   ],
   "outputs": [
    {
     "data": {
      "text/plain": [
       "       UMAP 1    UMAP 2  patient_id     cd3_z   cd3_inv     cd8_z   cd8_inv\n",
       "0    0.572402  0.004442           1  1909.950  1027.860  5470.500  4674.550\n",
       "1    0.362389  0.284281           2   688.920   399.360   570.210   411.505\n",
       "2    0.442087  0.052172           3  3781.000  2687.500  1556.400   461.490\n",
       "3    0.503828  0.731916           4   294.595   795.895   119.855   482.065\n",
       "4    0.171067  0.759653           5   139.020   502.195    55.575   144.050\n",
       "..        ...       ...         ...       ...       ...       ...       ...\n",
       "728  0.845272  0.897275         759       NaN  2214.100       NaN       NaN\n",
       "729  0.574801  0.239131         760  1349.550   529.075  1119.020   890.935\n",
       "730  0.438683  0.248108         761       NaN  1014.110   723.345  1199.950\n",
       "731  0.588237  0.010445         762  3809.550   890.180  4445.900  2964.750\n",
       "732  0.574086  0.756614         763   383.290   537.465   103.660   282.095\n",
       "\n",
       "[733 rows x 7 columns]"
      ],
      "text/html": [
       "<div>\n",
       "<style scoped>\n",
       "    .dataframe tbody tr th:only-of-type {\n",
       "        vertical-align: middle;\n",
       "    }\n",
       "\n",
       "    .dataframe tbody tr th {\n",
       "        vertical-align: top;\n",
       "    }\n",
       "\n",
       "    .dataframe thead th {\n",
       "        text-align: right;\n",
       "    }\n",
       "</style>\n",
       "<table border=\"1\" class=\"dataframe\">\n",
       "  <thead>\n",
       "    <tr style=\"text-align: right;\">\n",
       "      <th></th>\n",
       "      <th>UMAP 1</th>\n",
       "      <th>UMAP 2</th>\n",
       "      <th>patient_id</th>\n",
       "      <th>cd3_z</th>\n",
       "      <th>cd3_inv</th>\n",
       "      <th>cd8_z</th>\n",
       "      <th>cd8_inv</th>\n",
       "    </tr>\n",
       "  </thead>\n",
       "  <tbody>\n",
       "    <tr>\n",
       "      <th>0</th>\n",
       "      <td>0.572402</td>\n",
       "      <td>0.004442</td>\n",
       "      <td>1</td>\n",
       "      <td>1909.950</td>\n",
       "      <td>1027.860</td>\n",
       "      <td>5470.500</td>\n",
       "      <td>4674.550</td>\n",
       "    </tr>\n",
       "    <tr>\n",
       "      <th>1</th>\n",
       "      <td>0.362389</td>\n",
       "      <td>0.284281</td>\n",
       "      <td>2</td>\n",
       "      <td>688.920</td>\n",
       "      <td>399.360</td>\n",
       "      <td>570.210</td>\n",
       "      <td>411.505</td>\n",
       "    </tr>\n",
       "    <tr>\n",
       "      <th>2</th>\n",
       "      <td>0.442087</td>\n",
       "      <td>0.052172</td>\n",
       "      <td>3</td>\n",
       "      <td>3781.000</td>\n",
       "      <td>2687.500</td>\n",
       "      <td>1556.400</td>\n",
       "      <td>461.490</td>\n",
       "    </tr>\n",
       "    <tr>\n",
       "      <th>3</th>\n",
       "      <td>0.503828</td>\n",
       "      <td>0.731916</td>\n",
       "      <td>4</td>\n",
       "      <td>294.595</td>\n",
       "      <td>795.895</td>\n",
       "      <td>119.855</td>\n",
       "      <td>482.065</td>\n",
       "    </tr>\n",
       "    <tr>\n",
       "      <th>4</th>\n",
       "      <td>0.171067</td>\n",
       "      <td>0.759653</td>\n",
       "      <td>5</td>\n",
       "      <td>139.020</td>\n",
       "      <td>502.195</td>\n",
       "      <td>55.575</td>\n",
       "      <td>144.050</td>\n",
       "    </tr>\n",
       "    <tr>\n",
       "      <th>...</th>\n",
       "      <td>...</td>\n",
       "      <td>...</td>\n",
       "      <td>...</td>\n",
       "      <td>...</td>\n",
       "      <td>...</td>\n",
       "      <td>...</td>\n",
       "      <td>...</td>\n",
       "    </tr>\n",
       "    <tr>\n",
       "      <th>728</th>\n",
       "      <td>0.845272</td>\n",
       "      <td>0.897275</td>\n",
       "      <td>759</td>\n",
       "      <td>NaN</td>\n",
       "      <td>2214.100</td>\n",
       "      <td>NaN</td>\n",
       "      <td>NaN</td>\n",
       "    </tr>\n",
       "    <tr>\n",
       "      <th>729</th>\n",
       "      <td>0.574801</td>\n",
       "      <td>0.239131</td>\n",
       "      <td>760</td>\n",
       "      <td>1349.550</td>\n",
       "      <td>529.075</td>\n",
       "      <td>1119.020</td>\n",
       "      <td>890.935</td>\n",
       "    </tr>\n",
       "    <tr>\n",
       "      <th>730</th>\n",
       "      <td>0.438683</td>\n",
       "      <td>0.248108</td>\n",
       "      <td>761</td>\n",
       "      <td>NaN</td>\n",
       "      <td>1014.110</td>\n",
       "      <td>723.345</td>\n",
       "      <td>1199.950</td>\n",
       "    </tr>\n",
       "    <tr>\n",
       "      <th>731</th>\n",
       "      <td>0.588237</td>\n",
       "      <td>0.010445</td>\n",
       "      <td>762</td>\n",
       "      <td>3809.550</td>\n",
       "      <td>890.180</td>\n",
       "      <td>4445.900</td>\n",
       "      <td>2964.750</td>\n",
       "    </tr>\n",
       "    <tr>\n",
       "      <th>732</th>\n",
       "      <td>0.574086</td>\n",
       "      <td>0.756614</td>\n",
       "      <td>763</td>\n",
       "      <td>383.290</td>\n",
       "      <td>537.465</td>\n",
       "      <td>103.660</td>\n",
       "      <td>282.095</td>\n",
       "    </tr>\n",
       "  </tbody>\n",
       "</table>\n",
       "<p>733 rows × 7 columns</p>\n",
       "</div>"
      ]
     },
     "execution_count": 11,
     "metadata": {},
     "output_type": "execute_result"
    }
   ],
   "execution_count": 11
  },
  {
   "cell_type": "code",
   "id": "1ac471e9",
   "metadata": {
    "ExecuteTime": {
     "end_time": "2025-04-23T10:14:33.018025Z",
     "start_time": "2025-04-23T10:14:32.829449Z"
    }
   },
   "source": [
    "# Plot UMAP, colored according to density of CD3-positive cells in the tumor center (cd8_z)\n",
    "scatter_plot(df_cd8[\"UMAP 1\"], df_cd8[\"UMAP 2\"], df_cd8[\"cd8_z\"], \"../results/umap_CD8imagefeatures_CD8density.svg\")"
   ],
   "outputs": [
    {
     "data": {
      "text/plain": [
       "<Figure size 220x180 with 2 Axes>"
      ],
      "image/png": "[encoded data removed]"
     },
     "metadata": {},
     "output_type": "display_data"
    }
   ],
   "execution_count": 12
  }
 ],
 "metadata": {
  "kernelspec": {
   "display_name": "Python 3 (ipykernel)",
   "language": "python",
   "name": "python3"
  },
  "language_info": {
   "codemirror_mode": {
    "name": "ipython",
    "version": 3
   },
   "file_extension": ".py",
   "mimetype": "text/x-python",
   "name": "python",
   "nbconvert_exporter": "python",
   "pygments_lexer": "ipython3",
   "version": "3.12.3"
  }
 },
 "nbformat": 4,
 "nbformat_minor": 5
}
